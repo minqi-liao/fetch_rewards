{
 "cells": [
  {
   "cell_type": "code",
   "execution_count": 1,
   "id": "51c97b9a",
   "metadata": {},
   "outputs": [],
   "source": [
    "import json\n",
    "import pandas as pd\n",
    "from sqlalchemy import create_engine\n",
    "from datetime import datetime"
   ]
  },
  {
   "cell_type": "markdown",
   "id": "17cbb317",
   "metadata": {},
   "source": [
    "## First: Review Existing Unstructured Data and Diagram a New Structured Relational Data Model"
   ]
  },
  {
   "cell_type": "markdown",
   "id": "1c709e2c",
   "metadata": {},
   "source": [
    "### Read receipts"
   ]
  },
  {
   "cell_type": "code",
   "execution_count": 2,
   "id": "2ce94221",
   "metadata": {},
   "outputs": [],
   "source": [
    "# Opening receipts JSON file\n",
    "\n",
    "data = []\n",
    "with open('receipts.json') as f:\n",
    "    for line in f:\n",
    "        data.append(json.loads(line))\n"
   ]
  },
  {
   "cell_type": "code",
   "execution_count": 3,
   "id": "66a6a3b8",
   "metadata": {},
   "outputs": [],
   "source": [
    "# Convert to dataframe\n",
    "\n",
    "receipts = pd.DataFrame(data)"
   ]
  },
  {
   "cell_type": "code",
   "execution_count": 4,
   "id": "a719329c",
   "metadata": {},
   "outputs": [
    {
     "data": {
      "text/html": [
       "<div>\n",
       "<style scoped>\n",
       "    .dataframe tbody tr th:only-of-type {\n",
       "        vertical-align: middle;\n",
       "    }\n",
       "\n",
       "    .dataframe tbody tr th {\n",
       "        vertical-align: top;\n",
       "    }\n",
       "\n",
       "    .dataframe thead th {\n",
       "        text-align: right;\n",
       "    }\n",
       "</style>\n",
       "<table border=\"1\" class=\"dataframe\">\n",
       "  <thead>\n",
       "    <tr style=\"text-align: right;\">\n",
       "      <th></th>\n",
       "      <th>_id</th>\n",
       "      <th>bonusPointsEarned</th>\n",
       "      <th>bonusPointsEarnedReason</th>\n",
       "      <th>createDate</th>\n",
       "      <th>dateScanned</th>\n",
       "      <th>finishedDate</th>\n",
       "      <th>modifyDate</th>\n",
       "      <th>pointsAwardedDate</th>\n",
       "      <th>pointsEarned</th>\n",
       "      <th>purchaseDate</th>\n",
       "      <th>purchasedItemCount</th>\n",
       "      <th>rewardsReceiptItemList</th>\n",
       "      <th>rewardsReceiptStatus</th>\n",
       "      <th>totalSpent</th>\n",
       "      <th>userId</th>\n",
       "    </tr>\n",
       "  </thead>\n",
       "  <tbody>\n",
       "    <tr>\n",
       "      <th>0</th>\n",
       "      <td>{'$oid': '5ff1e1eb0a720f0523000575'}</td>\n",
       "      <td>500.0</td>\n",
       "      <td>Receipt number 2 completed, bonus point schedu...</td>\n",
       "      <td>{'$date': 1609687531000}</td>\n",
       "      <td>{'$date': 1609687531000}</td>\n",
       "      <td>{'$date': 1609687531000}</td>\n",
       "      <td>{'$date': 1609687536000}</td>\n",
       "      <td>{'$date': 1609687531000}</td>\n",
       "      <td>500.0</td>\n",
       "      <td>{'$date': 1609632000000}</td>\n",
       "      <td>5.0</td>\n",
       "      <td>[{'barcode': '4011', 'description': 'ITEM NOT ...</td>\n",
       "      <td>FINISHED</td>\n",
       "      <td>26.00</td>\n",
       "      <td>5ff1e1eacfcf6c399c274ae6</td>\n",
       "    </tr>\n",
       "    <tr>\n",
       "      <th>1</th>\n",
       "      <td>{'$oid': '5ff1e1bb0a720f052300056b'}</td>\n",
       "      <td>150.0</td>\n",
       "      <td>Receipt number 5 completed, bonus point schedu...</td>\n",
       "      <td>{'$date': 1609687483000}</td>\n",
       "      <td>{'$date': 1609687483000}</td>\n",
       "      <td>{'$date': 1609687483000}</td>\n",
       "      <td>{'$date': 1609687488000}</td>\n",
       "      <td>{'$date': 1609687483000}</td>\n",
       "      <td>150.0</td>\n",
       "      <td>{'$date': 1609601083000}</td>\n",
       "      <td>2.0</td>\n",
       "      <td>[{'barcode': '4011', 'description': 'ITEM NOT ...</td>\n",
       "      <td>FINISHED</td>\n",
       "      <td>11.00</td>\n",
       "      <td>5ff1e194b6a9d73a3a9f1052</td>\n",
       "    </tr>\n",
       "    <tr>\n",
       "      <th>2</th>\n",
       "      <td>{'$oid': '5ff1e1f10a720f052300057a'}</td>\n",
       "      <td>5.0</td>\n",
       "      <td>All-receipts receipt bonus</td>\n",
       "      <td>{'$date': 1609687537000}</td>\n",
       "      <td>{'$date': 1609687537000}</td>\n",
       "      <td>NaN</td>\n",
       "      <td>{'$date': 1609687542000}</td>\n",
       "      <td>NaN</td>\n",
       "      <td>5</td>\n",
       "      <td>{'$date': 1609632000000}</td>\n",
       "      <td>1.0</td>\n",
       "      <td>[{'needsFetchReview': False, 'partnerItemId': ...</td>\n",
       "      <td>REJECTED</td>\n",
       "      <td>10.00</td>\n",
       "      <td>5ff1e1f1cfcf6c399c274b0b</td>\n",
       "    </tr>\n",
       "    <tr>\n",
       "      <th>3</th>\n",
       "      <td>{'$oid': '5ff1e1ee0a7214ada100056f'}</td>\n",
       "      <td>5.0</td>\n",
       "      <td>All-receipts receipt bonus</td>\n",
       "      <td>{'$date': 1609687534000}</td>\n",
       "      <td>{'$date': 1609687534000}</td>\n",
       "      <td>{'$date': 1609687534000}</td>\n",
       "      <td>{'$date': 1609687539000}</td>\n",
       "      <td>{'$date': 1609687534000}</td>\n",
       "      <td>5.0</td>\n",
       "      <td>{'$date': 1609632000000}</td>\n",
       "      <td>4.0</td>\n",
       "      <td>[{'barcode': '4011', 'description': 'ITEM NOT ...</td>\n",
       "      <td>FINISHED</td>\n",
       "      <td>28.00</td>\n",
       "      <td>5ff1e1eacfcf6c399c274ae6</td>\n",
       "    </tr>\n",
       "    <tr>\n",
       "      <th>4</th>\n",
       "      <td>{'$oid': '5ff1e1d20a7214ada1000561'}</td>\n",
       "      <td>5.0</td>\n",
       "      <td>All-receipts receipt bonus</td>\n",
       "      <td>{'$date': 1609687506000}</td>\n",
       "      <td>{'$date': 1609687506000}</td>\n",
       "      <td>{'$date': 1609687511000}</td>\n",
       "      <td>{'$date': 1609687511000}</td>\n",
       "      <td>{'$date': 1609687506000}</td>\n",
       "      <td>5.0</td>\n",
       "      <td>{'$date': 1609601106000}</td>\n",
       "      <td>2.0</td>\n",
       "      <td>[{'barcode': '4011', 'description': 'ITEM NOT ...</td>\n",
       "      <td>FINISHED</td>\n",
       "      <td>1.00</td>\n",
       "      <td>5ff1e194b6a9d73a3a9f1052</td>\n",
       "    </tr>\n",
       "  </tbody>\n",
       "</table>\n",
       "</div>"
      ],
      "text/plain": [
       "                                    _id  bonusPointsEarned  \\\n",
       "0  {'$oid': '5ff1e1eb0a720f0523000575'}              500.0   \n",
       "1  {'$oid': '5ff1e1bb0a720f052300056b'}              150.0   \n",
       "2  {'$oid': '5ff1e1f10a720f052300057a'}                5.0   \n",
       "3  {'$oid': '5ff1e1ee0a7214ada100056f'}                5.0   \n",
       "4  {'$oid': '5ff1e1d20a7214ada1000561'}                5.0   \n",
       "\n",
       "                             bonusPointsEarnedReason  \\\n",
       "0  Receipt number 2 completed, bonus point schedu...   \n",
       "1  Receipt number 5 completed, bonus point schedu...   \n",
       "2                         All-receipts receipt bonus   \n",
       "3                         All-receipts receipt bonus   \n",
       "4                         All-receipts receipt bonus   \n",
       "\n",
       "                 createDate               dateScanned  \\\n",
       "0  {'$date': 1609687531000}  {'$date': 1609687531000}   \n",
       "1  {'$date': 1609687483000}  {'$date': 1609687483000}   \n",
       "2  {'$date': 1609687537000}  {'$date': 1609687537000}   \n",
       "3  {'$date': 1609687534000}  {'$date': 1609687534000}   \n",
       "4  {'$date': 1609687506000}  {'$date': 1609687506000}   \n",
       "\n",
       "               finishedDate                modifyDate  \\\n",
       "0  {'$date': 1609687531000}  {'$date': 1609687536000}   \n",
       "1  {'$date': 1609687483000}  {'$date': 1609687488000}   \n",
       "2                       NaN  {'$date': 1609687542000}   \n",
       "3  {'$date': 1609687534000}  {'$date': 1609687539000}   \n",
       "4  {'$date': 1609687511000}  {'$date': 1609687511000}   \n",
       "\n",
       "          pointsAwardedDate pointsEarned              purchaseDate  \\\n",
       "0  {'$date': 1609687531000}        500.0  {'$date': 1609632000000}   \n",
       "1  {'$date': 1609687483000}        150.0  {'$date': 1609601083000}   \n",
       "2                       NaN            5  {'$date': 1609632000000}   \n",
       "3  {'$date': 1609687534000}          5.0  {'$date': 1609632000000}   \n",
       "4  {'$date': 1609687506000}          5.0  {'$date': 1609601106000}   \n",
       "\n",
       "   purchasedItemCount                             rewardsReceiptItemList  \\\n",
       "0                 5.0  [{'barcode': '4011', 'description': 'ITEM NOT ...   \n",
       "1                 2.0  [{'barcode': '4011', 'description': 'ITEM NOT ...   \n",
       "2                 1.0  [{'needsFetchReview': False, 'partnerItemId': ...   \n",
       "3                 4.0  [{'barcode': '4011', 'description': 'ITEM NOT ...   \n",
       "4                 2.0  [{'barcode': '4011', 'description': 'ITEM NOT ...   \n",
       "\n",
       "  rewardsReceiptStatus totalSpent                    userId  \n",
       "0             FINISHED      26.00  5ff1e1eacfcf6c399c274ae6  \n",
       "1             FINISHED      11.00  5ff1e194b6a9d73a3a9f1052  \n",
       "2             REJECTED      10.00  5ff1e1f1cfcf6c399c274b0b  \n",
       "3             FINISHED      28.00  5ff1e1eacfcf6c399c274ae6  \n",
       "4             FINISHED       1.00  5ff1e194b6a9d73a3a9f1052  "
      ]
     },
     "execution_count": 4,
     "metadata": {},
     "output_type": "execute_result"
    }
   ],
   "source": [
    "receipts.head()"
   ]
  },
  {
   "cell_type": "code",
   "execution_count": 5,
   "id": "f6881b34",
   "metadata": {},
   "outputs": [
    {
     "data": {
      "text/plain": [
       "(1119, 15)"
      ]
     },
     "execution_count": 5,
     "metadata": {},
     "output_type": "execute_result"
    }
   ],
   "source": [
    "receipts.shape"
   ]
  },
  {
   "cell_type": "code",
   "execution_count": 6,
   "id": "80f672d6",
   "metadata": {},
   "outputs": [],
   "source": [
    "# Expand rewardsReceiptItemList to seperate columns\n",
    "\n",
    "receipts = receipts.explode('rewardsReceiptItemList')\n",
    "receipts.reset_index(inplace=True)"
   ]
  },
  {
   "cell_type": "code",
   "execution_count": 7,
   "id": "28f2b5c8",
   "metadata": {},
   "outputs": [
    {
     "data": {
      "text/plain": [
       "(7381, 16)"
      ]
     },
     "execution_count": 7,
     "metadata": {},
     "output_type": "execute_result"
    }
   ],
   "source": [
    "receipts.shape"
   ]
  },
  {
   "cell_type": "code",
   "execution_count": 8,
   "id": "38419e92",
   "metadata": {},
   "outputs": [],
   "source": [
    "# normalize and rename dictionary columns \n",
    "\n",
    "receipt_id=pd.json_normalize(receipts['_id'])\n",
    "receipt_id.rename(columns = {'$oid':'id'}, inplace = True)\n",
    "\n",
    "receipt_createDate=pd.json_normalize(receipts['createDate'])\n",
    "receipt_createDate.rename(columns = {'$date':'createDate'}, inplace = True)\n",
    "\n",
    "receipt_datescanned=pd.json_normalize(receipts['dateScanned'])\n",
    "receipt_datescanned.rename(columns = {'$date':'dateScanned'}, inplace = True)\n",
    "\n",
    "receipt_finished=pd.json_normalize(receipts['finishedDate'])\n",
    "receipt_finished.rename(columns = {'$date':'finishedDate'}, inplace = True)\n",
    "\n",
    "receipt_modify=pd.json_normalize(receipts['modifyDate'])\n",
    "receipt_modify.rename(columns = {'$date':'modifyDate'}, inplace = True)\n",
    "\n",
    "receipt_point=pd.json_normalize(receipts['pointsAwardedDate'])\n",
    "receipt_point.rename(columns = {'$date':'pointsAwardedDate'}, inplace = True)\n",
    "\n",
    "receipt_purchase=pd.json_normalize(receipts['purchaseDate'])\n",
    "receipt_purchase.rename(columns = {'$date':'purchaseDate'}, inplace = True)\n",
    "\n",
    "receipt_rewardsReceiptItemList=pd.json_normalize(receipts['rewardsReceiptItemList'])\n"
   ]
  },
  {
   "cell_type": "code",
   "execution_count": 9,
   "id": "447ec3df",
   "metadata": {},
   "outputs": [
    {
     "data": {
      "text/plain": [
       "Index(['barcode', 'description', 'finalPrice', 'itemPrice', 'needsFetchReview',\n",
       "       'partnerItemId', 'preventTargetGapPoints', 'quantityPurchased',\n",
       "       'userFlaggedBarcode', 'userFlaggedNewItem', 'userFlaggedPrice',\n",
       "       'userFlaggedQuantity', 'needsFetchReviewReason',\n",
       "       'pointsNotAwardedReason', 'pointsPayerId', 'rewardsGroup',\n",
       "       'rewardsProductPartnerId', 'userFlaggedDescription',\n",
       "       'originalMetaBriteBarcode', 'originalMetaBriteDescription', 'brandCode',\n",
       "       'competitorRewardsGroup', 'discountedItemPrice',\n",
       "       'originalReceiptItemText', 'itemNumber',\n",
       "       'originalMetaBriteQuantityPurchased', 'pointsEarned', 'targetPrice',\n",
       "       'competitiveProduct', 'originalFinalPrice',\n",
       "       'originalMetaBriteItemPrice', 'deleted', 'priceAfterCoupon',\n",
       "       'metabriteCampaignId'],\n",
       "      dtype='object')"
      ]
     },
     "execution_count": 9,
     "metadata": {},
     "output_type": "execute_result"
    }
   ],
   "source": [
    "receipt_rewardsReceiptItemList.columns"
   ]
  },
  {
   "cell_type": "code",
   "execution_count": 10,
   "id": "546214c6",
   "metadata": {},
   "outputs": [],
   "source": [
    "receipts_new = pd.concat([receipt_id, receipts.iloc[:, 2:4], receipt_createDate, receipt_datescanned,\n",
    "                          receipt_finished, receipt_modify, receipt_point, receipts['pointsEarned'], receipt_purchase, \n",
    "                         receipts['purchasedItemCount'], receipt_rewardsReceiptItemList, receipts.iloc[:, 13:16]], axis=1)\n"
   ]
  },
  {
   "cell_type": "code",
   "execution_count": 11,
   "id": "717f56c6",
   "metadata": {},
   "outputs": [
    {
     "data": {
      "text/plain": [
       "(7381, 48)"
      ]
     },
     "execution_count": 11,
     "metadata": {},
     "output_type": "execute_result"
    }
   ],
   "source": [
    "receipts_new.shape"
   ]
  },
  {
   "cell_type": "code",
   "execution_count": 12,
   "id": "b374b0d4",
   "metadata": {},
   "outputs": [
    {
     "data": {
      "text/plain": [
       "Index(['id', 'bonusPointsEarned', 'bonusPointsEarnedReason', 'createDate',\n",
       "       'dateScanned', 'finishedDate', 'modifyDate', 'pointsAwardedDate',\n",
       "       'pointsEarned', 'purchaseDate', 'purchasedItemCount', 'barcode',\n",
       "       'description', 'finalPrice', 'itemPrice', 'needsFetchReview',\n",
       "       'partnerItemId', 'preventTargetGapPoints', 'quantityPurchased',\n",
       "       'userFlaggedBarcode', 'userFlaggedNewItem', 'userFlaggedPrice',\n",
       "       'userFlaggedQuantity', 'needsFetchReviewReason',\n",
       "       'pointsNotAwardedReason', 'pointsPayerId', 'rewardsGroup',\n",
       "       'rewardsProductPartnerId', 'userFlaggedDescription',\n",
       "       'originalMetaBriteBarcode', 'originalMetaBriteDescription', 'brandCode',\n",
       "       'competitorRewardsGroup', 'discountedItemPrice',\n",
       "       'originalReceiptItemText', 'itemNumber',\n",
       "       'originalMetaBriteQuantityPurchased', 'pointsEarned', 'targetPrice',\n",
       "       'competitiveProduct', 'originalFinalPrice',\n",
       "       'originalMetaBriteItemPrice', 'deleted', 'priceAfterCoupon',\n",
       "       'metabriteCampaignId', 'rewardsReceiptStatus', 'totalSpent', 'userId'],\n",
       "      dtype='object')"
      ]
     },
     "execution_count": 12,
     "metadata": {},
     "output_type": "execute_result"
    }
   ],
   "source": [
    "receipts_new.columns"
   ]
  },
  {
   "cell_type": "code",
   "execution_count": 13,
   "id": "41a6b957",
   "metadata": {},
   "outputs": [
    {
     "data": {
      "text/html": [
       "<div>\n",
       "<style scoped>\n",
       "    .dataframe tbody tr th:only-of-type {\n",
       "        vertical-align: middle;\n",
       "    }\n",
       "\n",
       "    .dataframe tbody tr th {\n",
       "        vertical-align: top;\n",
       "    }\n",
       "\n",
       "    .dataframe thead th {\n",
       "        text-align: right;\n",
       "    }\n",
       "</style>\n",
       "<table border=\"1\" class=\"dataframe\">\n",
       "  <thead>\n",
       "    <tr style=\"text-align: right;\">\n",
       "      <th></th>\n",
       "      <th>id</th>\n",
       "      <th>bonusPointsEarned</th>\n",
       "      <th>bonusPointsEarnedReason</th>\n",
       "      <th>createDate</th>\n",
       "      <th>dateScanned</th>\n",
       "      <th>finishedDate</th>\n",
       "      <th>modifyDate</th>\n",
       "      <th>pointsAwardedDate</th>\n",
       "      <th>pointsEarned</th>\n",
       "      <th>purchaseDate</th>\n",
       "      <th>...</th>\n",
       "      <th>targetPrice</th>\n",
       "      <th>competitiveProduct</th>\n",
       "      <th>originalFinalPrice</th>\n",
       "      <th>originalMetaBriteItemPrice</th>\n",
       "      <th>deleted</th>\n",
       "      <th>priceAfterCoupon</th>\n",
       "      <th>metabriteCampaignId</th>\n",
       "      <th>rewardsReceiptStatus</th>\n",
       "      <th>totalSpent</th>\n",
       "      <th>userId</th>\n",
       "    </tr>\n",
       "  </thead>\n",
       "  <tbody>\n",
       "    <tr>\n",
       "      <th>0</th>\n",
       "      <td>5ff1e1eb0a720f0523000575</td>\n",
       "      <td>500.0</td>\n",
       "      <td>Receipt number 2 completed, bonus point schedu...</td>\n",
       "      <td>1609687531000</td>\n",
       "      <td>1609687531000</td>\n",
       "      <td>1.609688e+12</td>\n",
       "      <td>1609687536000</td>\n",
       "      <td>1.609688e+12</td>\n",
       "      <td>500.0</td>\n",
       "      <td>1.609632e+12</td>\n",
       "      <td>...</td>\n",
       "      <td>NaN</td>\n",
       "      <td>NaN</td>\n",
       "      <td>NaN</td>\n",
       "      <td>NaN</td>\n",
       "      <td>NaN</td>\n",
       "      <td>NaN</td>\n",
       "      <td>NaN</td>\n",
       "      <td>FINISHED</td>\n",
       "      <td>26.00</td>\n",
       "      <td>5ff1e1eacfcf6c399c274ae6</td>\n",
       "    </tr>\n",
       "    <tr>\n",
       "      <th>1</th>\n",
       "      <td>5ff1e1bb0a720f052300056b</td>\n",
       "      <td>150.0</td>\n",
       "      <td>Receipt number 5 completed, bonus point schedu...</td>\n",
       "      <td>1609687483000</td>\n",
       "      <td>1609687483000</td>\n",
       "      <td>1.609687e+12</td>\n",
       "      <td>1609687488000</td>\n",
       "      <td>1.609687e+12</td>\n",
       "      <td>150.0</td>\n",
       "      <td>1.609601e+12</td>\n",
       "      <td>...</td>\n",
       "      <td>NaN</td>\n",
       "      <td>NaN</td>\n",
       "      <td>NaN</td>\n",
       "      <td>NaN</td>\n",
       "      <td>NaN</td>\n",
       "      <td>NaN</td>\n",
       "      <td>NaN</td>\n",
       "      <td>FINISHED</td>\n",
       "      <td>11.00</td>\n",
       "      <td>5ff1e194b6a9d73a3a9f1052</td>\n",
       "    </tr>\n",
       "    <tr>\n",
       "      <th>2</th>\n",
       "      <td>5ff1e1bb0a720f052300056b</td>\n",
       "      <td>150.0</td>\n",
       "      <td>Receipt number 5 completed, bonus point schedu...</td>\n",
       "      <td>1609687483000</td>\n",
       "      <td>1609687483000</td>\n",
       "      <td>1.609687e+12</td>\n",
       "      <td>1609687488000</td>\n",
       "      <td>1.609687e+12</td>\n",
       "      <td>150.0</td>\n",
       "      <td>1.609601e+12</td>\n",
       "      <td>...</td>\n",
       "      <td>NaN</td>\n",
       "      <td>NaN</td>\n",
       "      <td>NaN</td>\n",
       "      <td>NaN</td>\n",
       "      <td>NaN</td>\n",
       "      <td>NaN</td>\n",
       "      <td>NaN</td>\n",
       "      <td>FINISHED</td>\n",
       "      <td>11.00</td>\n",
       "      <td>5ff1e194b6a9d73a3a9f1052</td>\n",
       "    </tr>\n",
       "    <tr>\n",
       "      <th>3</th>\n",
       "      <td>5ff1e1f10a720f052300057a</td>\n",
       "      <td>5.0</td>\n",
       "      <td>All-receipts receipt bonus</td>\n",
       "      <td>1609687537000</td>\n",
       "      <td>1609687537000</td>\n",
       "      <td>NaN</td>\n",
       "      <td>1609687542000</td>\n",
       "      <td>NaN</td>\n",
       "      <td>5</td>\n",
       "      <td>1.609632e+12</td>\n",
       "      <td>...</td>\n",
       "      <td>NaN</td>\n",
       "      <td>NaN</td>\n",
       "      <td>NaN</td>\n",
       "      <td>NaN</td>\n",
       "      <td>NaN</td>\n",
       "      <td>NaN</td>\n",
       "      <td>NaN</td>\n",
       "      <td>REJECTED</td>\n",
       "      <td>10.00</td>\n",
       "      <td>5ff1e1f1cfcf6c399c274b0b</td>\n",
       "    </tr>\n",
       "    <tr>\n",
       "      <th>4</th>\n",
       "      <td>5ff1e1ee0a7214ada100056f</td>\n",
       "      <td>5.0</td>\n",
       "      <td>All-receipts receipt bonus</td>\n",
       "      <td>1609687534000</td>\n",
       "      <td>1609687534000</td>\n",
       "      <td>1.609688e+12</td>\n",
       "      <td>1609687539000</td>\n",
       "      <td>1.609688e+12</td>\n",
       "      <td>5.0</td>\n",
       "      <td>1.609632e+12</td>\n",
       "      <td>...</td>\n",
       "      <td>NaN</td>\n",
       "      <td>NaN</td>\n",
       "      <td>NaN</td>\n",
       "      <td>NaN</td>\n",
       "      <td>NaN</td>\n",
       "      <td>NaN</td>\n",
       "      <td>NaN</td>\n",
       "      <td>FINISHED</td>\n",
       "      <td>28.00</td>\n",
       "      <td>5ff1e1eacfcf6c399c274ae6</td>\n",
       "    </tr>\n",
       "  </tbody>\n",
       "</table>\n",
       "<p>5 rows × 48 columns</p>\n",
       "</div>"
      ],
      "text/plain": [
       "                         id  bonusPointsEarned  \\\n",
       "0  5ff1e1eb0a720f0523000575              500.0   \n",
       "1  5ff1e1bb0a720f052300056b              150.0   \n",
       "2  5ff1e1bb0a720f052300056b              150.0   \n",
       "3  5ff1e1f10a720f052300057a                5.0   \n",
       "4  5ff1e1ee0a7214ada100056f                5.0   \n",
       "\n",
       "                             bonusPointsEarnedReason     createDate  \\\n",
       "0  Receipt number 2 completed, bonus point schedu...  1609687531000   \n",
       "1  Receipt number 5 completed, bonus point schedu...  1609687483000   \n",
       "2  Receipt number 5 completed, bonus point schedu...  1609687483000   \n",
       "3                         All-receipts receipt bonus  1609687537000   \n",
       "4                         All-receipts receipt bonus  1609687534000   \n",
       "\n",
       "     dateScanned  finishedDate     modifyDate  pointsAwardedDate pointsEarned  \\\n",
       "0  1609687531000  1.609688e+12  1609687536000       1.609688e+12        500.0   \n",
       "1  1609687483000  1.609687e+12  1609687488000       1.609687e+12        150.0   \n",
       "2  1609687483000  1.609687e+12  1609687488000       1.609687e+12        150.0   \n",
       "3  1609687537000           NaN  1609687542000                NaN            5   \n",
       "4  1609687534000  1.609688e+12  1609687539000       1.609688e+12          5.0   \n",
       "\n",
       "   purchaseDate  ...  targetPrice competitiveProduct originalFinalPrice  \\\n",
       "0  1.609632e+12  ...          NaN                NaN                NaN   \n",
       "1  1.609601e+12  ...          NaN                NaN                NaN   \n",
       "2  1.609601e+12  ...          NaN                NaN                NaN   \n",
       "3  1.609632e+12  ...          NaN                NaN                NaN   \n",
       "4  1.609632e+12  ...          NaN                NaN                NaN   \n",
       "\n",
       "  originalMetaBriteItemPrice deleted priceAfterCoupon metabriteCampaignId  \\\n",
       "0                        NaN     NaN              NaN                 NaN   \n",
       "1                        NaN     NaN              NaN                 NaN   \n",
       "2                        NaN     NaN              NaN                 NaN   \n",
       "3                        NaN     NaN              NaN                 NaN   \n",
       "4                        NaN     NaN              NaN                 NaN   \n",
       "\n",
       "  rewardsReceiptStatus  totalSpent                    userId  \n",
       "0             FINISHED       26.00  5ff1e1eacfcf6c399c274ae6  \n",
       "1             FINISHED       11.00  5ff1e194b6a9d73a3a9f1052  \n",
       "2             FINISHED       11.00  5ff1e194b6a9d73a3a9f1052  \n",
       "3             REJECTED       10.00  5ff1e1f1cfcf6c399c274b0b  \n",
       "4             FINISHED       28.00  5ff1e1eacfcf6c399c274ae6  \n",
       "\n",
       "[5 rows x 48 columns]"
      ]
     },
     "execution_count": 13,
     "metadata": {},
     "output_type": "execute_result"
    }
   ],
   "source": [
    "receipts_new.head()"
   ]
  },
  {
   "cell_type": "code",
   "execution_count": 14,
   "id": "58418a52",
   "metadata": {},
   "outputs": [],
   "source": [
    "# Convert timestamp to UTC time\n",
    "\n",
    "receipts_new['createDate']=receipts_new['createDate'].apply(lambda x: datetime.utcfromtimestamp(int(x)/1000).strftime('%Y-%m-%d %H:%M:%S') if pd.notnull(x) else x)\n",
    "receipts_new['dateScanned']=receipts_new['dateScanned'].apply(lambda x: datetime.utcfromtimestamp(int(x)/1000).strftime('%Y-%m-%d %H:%M:%S') if pd.notnull(x) else x)\n",
    "receipts_new['finishedDate']=receipts_new['finishedDate'].apply(lambda x: datetime.utcfromtimestamp(int(x)/1000).strftime('%Y-%m-%d %H:%M:%S') if pd.notnull(x) else x)\n",
    "receipts_new['modifyDate']=receipts_new['modifyDate'].apply(lambda x: datetime.utcfromtimestamp(int(x)/1000).strftime('%Y-%m-%d %H:%M:%S') if pd.notnull(x) else x)\n",
    "receipts_new['pointsAwardedDate']=receipts_new['pointsAwardedDate'].apply(lambda x: datetime.utcfromtimestamp(int(x)/1000).strftime('%Y-%m-%d %H:%M:%S') if pd.notnull(x) else x)\n",
    "receipts_new['purchaseDate']=receipts_new['purchaseDate'].apply(lambda x: datetime.utcfromtimestamp(int(x)/1000).strftime('%Y-%m-%d %H:%M:%S') if pd.notnull(x) else x)\n",
    "\n",
    "\n"
   ]
  },
  {
   "cell_type": "code",
   "execution_count": 15,
   "id": "4385ee7f",
   "metadata": {},
   "outputs": [
    {
     "data": {
      "text/html": [
       "<div>\n",
       "<style scoped>\n",
       "    .dataframe tbody tr th:only-of-type {\n",
       "        vertical-align: middle;\n",
       "    }\n",
       "\n",
       "    .dataframe tbody tr th {\n",
       "        vertical-align: top;\n",
       "    }\n",
       "\n",
       "    .dataframe thead th {\n",
       "        text-align: right;\n",
       "    }\n",
       "</style>\n",
       "<table border=\"1\" class=\"dataframe\">\n",
       "  <thead>\n",
       "    <tr style=\"text-align: right;\">\n",
       "      <th></th>\n",
       "      <th>id</th>\n",
       "      <th>bonusPointsEarned</th>\n",
       "      <th>bonusPointsEarnedReason</th>\n",
       "      <th>createDate</th>\n",
       "      <th>dateScanned</th>\n",
       "      <th>finishedDate</th>\n",
       "      <th>modifyDate</th>\n",
       "      <th>pointsAwardedDate</th>\n",
       "      <th>pointsEarned</th>\n",
       "      <th>purchaseDate</th>\n",
       "      <th>...</th>\n",
       "      <th>targetPrice</th>\n",
       "      <th>competitiveProduct</th>\n",
       "      <th>originalFinalPrice</th>\n",
       "      <th>originalMetaBriteItemPrice</th>\n",
       "      <th>deleted</th>\n",
       "      <th>priceAfterCoupon</th>\n",
       "      <th>metabriteCampaignId</th>\n",
       "      <th>rewardsReceiptStatus</th>\n",
       "      <th>totalSpent</th>\n",
       "      <th>userId</th>\n",
       "    </tr>\n",
       "  </thead>\n",
       "  <tbody>\n",
       "    <tr>\n",
       "      <th>0</th>\n",
       "      <td>5ff1e1eb0a720f0523000575</td>\n",
       "      <td>500.0</td>\n",
       "      <td>Receipt number 2 completed, bonus point schedu...</td>\n",
       "      <td>2021-01-03 15:25:31</td>\n",
       "      <td>2021-01-03 15:25:31</td>\n",
       "      <td>2021-01-03 15:25:31</td>\n",
       "      <td>2021-01-03 15:25:36</td>\n",
       "      <td>2021-01-03 15:25:31</td>\n",
       "      <td>500.0</td>\n",
       "      <td>2021-01-03 00:00:00</td>\n",
       "      <td>...</td>\n",
       "      <td>NaN</td>\n",
       "      <td>NaN</td>\n",
       "      <td>NaN</td>\n",
       "      <td>NaN</td>\n",
       "      <td>NaN</td>\n",
       "      <td>NaN</td>\n",
       "      <td>NaN</td>\n",
       "      <td>FINISHED</td>\n",
       "      <td>26.00</td>\n",
       "      <td>5ff1e1eacfcf6c399c274ae6</td>\n",
       "    </tr>\n",
       "    <tr>\n",
       "      <th>1</th>\n",
       "      <td>5ff1e1bb0a720f052300056b</td>\n",
       "      <td>150.0</td>\n",
       "      <td>Receipt number 5 completed, bonus point schedu...</td>\n",
       "      <td>2021-01-03 15:24:43</td>\n",
       "      <td>2021-01-03 15:24:43</td>\n",
       "      <td>2021-01-03 15:24:43</td>\n",
       "      <td>2021-01-03 15:24:48</td>\n",
       "      <td>2021-01-03 15:24:43</td>\n",
       "      <td>150.0</td>\n",
       "      <td>2021-01-02 15:24:43</td>\n",
       "      <td>...</td>\n",
       "      <td>NaN</td>\n",
       "      <td>NaN</td>\n",
       "      <td>NaN</td>\n",
       "      <td>NaN</td>\n",
       "      <td>NaN</td>\n",
       "      <td>NaN</td>\n",
       "      <td>NaN</td>\n",
       "      <td>FINISHED</td>\n",
       "      <td>11.00</td>\n",
       "      <td>5ff1e194b6a9d73a3a9f1052</td>\n",
       "    </tr>\n",
       "    <tr>\n",
       "      <th>2</th>\n",
       "      <td>5ff1e1bb0a720f052300056b</td>\n",
       "      <td>150.0</td>\n",
       "      <td>Receipt number 5 completed, bonus point schedu...</td>\n",
       "      <td>2021-01-03 15:24:43</td>\n",
       "      <td>2021-01-03 15:24:43</td>\n",
       "      <td>2021-01-03 15:24:43</td>\n",
       "      <td>2021-01-03 15:24:48</td>\n",
       "      <td>2021-01-03 15:24:43</td>\n",
       "      <td>150.0</td>\n",
       "      <td>2021-01-02 15:24:43</td>\n",
       "      <td>...</td>\n",
       "      <td>NaN</td>\n",
       "      <td>NaN</td>\n",
       "      <td>NaN</td>\n",
       "      <td>NaN</td>\n",
       "      <td>NaN</td>\n",
       "      <td>NaN</td>\n",
       "      <td>NaN</td>\n",
       "      <td>FINISHED</td>\n",
       "      <td>11.00</td>\n",
       "      <td>5ff1e194b6a9d73a3a9f1052</td>\n",
       "    </tr>\n",
       "    <tr>\n",
       "      <th>3</th>\n",
       "      <td>5ff1e1f10a720f052300057a</td>\n",
       "      <td>5.0</td>\n",
       "      <td>All-receipts receipt bonus</td>\n",
       "      <td>2021-01-03 15:25:37</td>\n",
       "      <td>2021-01-03 15:25:37</td>\n",
       "      <td>NaN</td>\n",
       "      <td>2021-01-03 15:25:42</td>\n",
       "      <td>NaN</td>\n",
       "      <td>5</td>\n",
       "      <td>2021-01-03 00:00:00</td>\n",
       "      <td>...</td>\n",
       "      <td>NaN</td>\n",
       "      <td>NaN</td>\n",
       "      <td>NaN</td>\n",
       "      <td>NaN</td>\n",
       "      <td>NaN</td>\n",
       "      <td>NaN</td>\n",
       "      <td>NaN</td>\n",
       "      <td>REJECTED</td>\n",
       "      <td>10.00</td>\n",
       "      <td>5ff1e1f1cfcf6c399c274b0b</td>\n",
       "    </tr>\n",
       "    <tr>\n",
       "      <th>4</th>\n",
       "      <td>5ff1e1ee0a7214ada100056f</td>\n",
       "      <td>5.0</td>\n",
       "      <td>All-receipts receipt bonus</td>\n",
       "      <td>2021-01-03 15:25:34</td>\n",
       "      <td>2021-01-03 15:25:34</td>\n",
       "      <td>2021-01-03 15:25:34</td>\n",
       "      <td>2021-01-03 15:25:39</td>\n",
       "      <td>2021-01-03 15:25:34</td>\n",
       "      <td>5.0</td>\n",
       "      <td>2021-01-03 00:00:00</td>\n",
       "      <td>...</td>\n",
       "      <td>NaN</td>\n",
       "      <td>NaN</td>\n",
       "      <td>NaN</td>\n",
       "      <td>NaN</td>\n",
       "      <td>NaN</td>\n",
       "      <td>NaN</td>\n",
       "      <td>NaN</td>\n",
       "      <td>FINISHED</td>\n",
       "      <td>28.00</td>\n",
       "      <td>5ff1e1eacfcf6c399c274ae6</td>\n",
       "    </tr>\n",
       "  </tbody>\n",
       "</table>\n",
       "<p>5 rows × 48 columns</p>\n",
       "</div>"
      ],
      "text/plain": [
       "                         id  bonusPointsEarned  \\\n",
       "0  5ff1e1eb0a720f0523000575              500.0   \n",
       "1  5ff1e1bb0a720f052300056b              150.0   \n",
       "2  5ff1e1bb0a720f052300056b              150.0   \n",
       "3  5ff1e1f10a720f052300057a                5.0   \n",
       "4  5ff1e1ee0a7214ada100056f                5.0   \n",
       "\n",
       "                             bonusPointsEarnedReason           createDate  \\\n",
       "0  Receipt number 2 completed, bonus point schedu...  2021-01-03 15:25:31   \n",
       "1  Receipt number 5 completed, bonus point schedu...  2021-01-03 15:24:43   \n",
       "2  Receipt number 5 completed, bonus point schedu...  2021-01-03 15:24:43   \n",
       "3                         All-receipts receipt bonus  2021-01-03 15:25:37   \n",
       "4                         All-receipts receipt bonus  2021-01-03 15:25:34   \n",
       "\n",
       "           dateScanned         finishedDate           modifyDate  \\\n",
       "0  2021-01-03 15:25:31  2021-01-03 15:25:31  2021-01-03 15:25:36   \n",
       "1  2021-01-03 15:24:43  2021-01-03 15:24:43  2021-01-03 15:24:48   \n",
       "2  2021-01-03 15:24:43  2021-01-03 15:24:43  2021-01-03 15:24:48   \n",
       "3  2021-01-03 15:25:37                  NaN  2021-01-03 15:25:42   \n",
       "4  2021-01-03 15:25:34  2021-01-03 15:25:34  2021-01-03 15:25:39   \n",
       "\n",
       "     pointsAwardedDate pointsEarned         purchaseDate  ...  targetPrice  \\\n",
       "0  2021-01-03 15:25:31        500.0  2021-01-03 00:00:00  ...          NaN   \n",
       "1  2021-01-03 15:24:43        150.0  2021-01-02 15:24:43  ...          NaN   \n",
       "2  2021-01-03 15:24:43        150.0  2021-01-02 15:24:43  ...          NaN   \n",
       "3                  NaN            5  2021-01-03 00:00:00  ...          NaN   \n",
       "4  2021-01-03 15:25:34          5.0  2021-01-03 00:00:00  ...          NaN   \n",
       "\n",
       "  competitiveProduct originalFinalPrice originalMetaBriteItemPrice deleted  \\\n",
       "0                NaN                NaN                        NaN     NaN   \n",
       "1                NaN                NaN                        NaN     NaN   \n",
       "2                NaN                NaN                        NaN     NaN   \n",
       "3                NaN                NaN                        NaN     NaN   \n",
       "4                NaN                NaN                        NaN     NaN   \n",
       "\n",
       "  priceAfterCoupon metabriteCampaignId rewardsReceiptStatus  totalSpent  \\\n",
       "0              NaN                 NaN             FINISHED       26.00   \n",
       "1              NaN                 NaN             FINISHED       11.00   \n",
       "2              NaN                 NaN             FINISHED       11.00   \n",
       "3              NaN                 NaN             REJECTED       10.00   \n",
       "4              NaN                 NaN             FINISHED       28.00   \n",
       "\n",
       "                     userId  \n",
       "0  5ff1e1eacfcf6c399c274ae6  \n",
       "1  5ff1e194b6a9d73a3a9f1052  \n",
       "2  5ff1e194b6a9d73a3a9f1052  \n",
       "3  5ff1e1f1cfcf6c399c274b0b  \n",
       "4  5ff1e1eacfcf6c399c274ae6  \n",
       "\n",
       "[5 rows x 48 columns]"
      ]
     },
     "execution_count": 15,
     "metadata": {},
     "output_type": "execute_result"
    }
   ],
   "source": [
    "receipts_new.head()"
   ]
  },
  {
   "cell_type": "markdown",
   "id": "0c9a1e64",
   "metadata": {},
   "source": [
    "### Read Users"
   ]
  },
  {
   "cell_type": "code",
   "execution_count": 16,
   "id": "eb8f7548",
   "metadata": {},
   "outputs": [],
   "source": [
    "# Opening users JSON file\n",
    "\n",
    "user = []\n",
    "with open('users.json') as f:\n",
    "    for line in f:\n",
    "        user.append(json.loads(line))\n",
    "        \n",
    "# Convert to dataframe\n",
    "\n",
    "users = pd.DataFrame(user)"
   ]
  },
  {
   "cell_type": "code",
   "execution_count": 17,
   "id": "d45aa10b",
   "metadata": {},
   "outputs": [
    {
     "data": {
      "text/html": [
       "<div>\n",
       "<style scoped>\n",
       "    .dataframe tbody tr th:only-of-type {\n",
       "        vertical-align: middle;\n",
       "    }\n",
       "\n",
       "    .dataframe tbody tr th {\n",
       "        vertical-align: top;\n",
       "    }\n",
       "\n",
       "    .dataframe thead th {\n",
       "        text-align: right;\n",
       "    }\n",
       "</style>\n",
       "<table border=\"1\" class=\"dataframe\">\n",
       "  <thead>\n",
       "    <tr style=\"text-align: right;\">\n",
       "      <th></th>\n",
       "      <th>_id</th>\n",
       "      <th>active</th>\n",
       "      <th>createdDate</th>\n",
       "      <th>lastLogin</th>\n",
       "      <th>role</th>\n",
       "      <th>signUpSource</th>\n",
       "      <th>state</th>\n",
       "    </tr>\n",
       "  </thead>\n",
       "  <tbody>\n",
       "    <tr>\n",
       "      <th>0</th>\n",
       "      <td>{'$oid': '5ff1e194b6a9d73a3a9f1052'}</td>\n",
       "      <td>True</td>\n",
       "      <td>{'$date': 1609687444800}</td>\n",
       "      <td>{'$date': 1609687537858}</td>\n",
       "      <td>consumer</td>\n",
       "      <td>Email</td>\n",
       "      <td>WI</td>\n",
       "    </tr>\n",
       "    <tr>\n",
       "      <th>1</th>\n",
       "      <td>{'$oid': '5ff1e194b6a9d73a3a9f1052'}</td>\n",
       "      <td>True</td>\n",
       "      <td>{'$date': 1609687444800}</td>\n",
       "      <td>{'$date': 1609687537858}</td>\n",
       "      <td>consumer</td>\n",
       "      <td>Email</td>\n",
       "      <td>WI</td>\n",
       "    </tr>\n",
       "    <tr>\n",
       "      <th>2</th>\n",
       "      <td>{'$oid': '5ff1e194b6a9d73a3a9f1052'}</td>\n",
       "      <td>True</td>\n",
       "      <td>{'$date': 1609687444800}</td>\n",
       "      <td>{'$date': 1609687537858}</td>\n",
       "      <td>consumer</td>\n",
       "      <td>Email</td>\n",
       "      <td>WI</td>\n",
       "    </tr>\n",
       "    <tr>\n",
       "      <th>3</th>\n",
       "      <td>{'$oid': '5ff1e1eacfcf6c399c274ae6'}</td>\n",
       "      <td>True</td>\n",
       "      <td>{'$date': 1609687530554}</td>\n",
       "      <td>{'$date': 1609687530597}</td>\n",
       "      <td>consumer</td>\n",
       "      <td>Email</td>\n",
       "      <td>WI</td>\n",
       "    </tr>\n",
       "    <tr>\n",
       "      <th>4</th>\n",
       "      <td>{'$oid': '5ff1e194b6a9d73a3a9f1052'}</td>\n",
       "      <td>True</td>\n",
       "      <td>{'$date': 1609687444800}</td>\n",
       "      <td>{'$date': 1609687537858}</td>\n",
       "      <td>consumer</td>\n",
       "      <td>Email</td>\n",
       "      <td>WI</td>\n",
       "    </tr>\n",
       "  </tbody>\n",
       "</table>\n",
       "</div>"
      ],
      "text/plain": [
       "                                    _id  active               createdDate  \\\n",
       "0  {'$oid': '5ff1e194b6a9d73a3a9f1052'}    True  {'$date': 1609687444800}   \n",
       "1  {'$oid': '5ff1e194b6a9d73a3a9f1052'}    True  {'$date': 1609687444800}   \n",
       "2  {'$oid': '5ff1e194b6a9d73a3a9f1052'}    True  {'$date': 1609687444800}   \n",
       "3  {'$oid': '5ff1e1eacfcf6c399c274ae6'}    True  {'$date': 1609687530554}   \n",
       "4  {'$oid': '5ff1e194b6a9d73a3a9f1052'}    True  {'$date': 1609687444800}   \n",
       "\n",
       "                  lastLogin      role signUpSource state  \n",
       "0  {'$date': 1609687537858}  consumer        Email    WI  \n",
       "1  {'$date': 1609687537858}  consumer        Email    WI  \n",
       "2  {'$date': 1609687537858}  consumer        Email    WI  \n",
       "3  {'$date': 1609687530597}  consumer        Email    WI  \n",
       "4  {'$date': 1609687537858}  consumer        Email    WI  "
      ]
     },
     "execution_count": 17,
     "metadata": {},
     "output_type": "execute_result"
    }
   ],
   "source": [
    "users.head()"
   ]
  },
  {
   "cell_type": "code",
   "execution_count": 18,
   "id": "c3eba6e6",
   "metadata": {},
   "outputs": [],
   "source": [
    "# normalize and renamedictionary columns \n",
    "\n",
    "user_id=pd.json_normalize(users['_id'])\n",
    "user_id.rename(columns = {'$oid':'id'}, inplace = True)\n",
    "\n",
    "user_createdDate=pd.json_normalize(users['createdDate'])\n",
    "user_createdDate.rename(columns = {'$date':'createdDate'}, inplace = True)\n",
    "\n",
    "user_lastLogin=pd.json_normalize(users['lastLogin'])\n",
    "user_lastLogin.rename(columns = {'$date':'lastLogin'}, inplace = True)"
   ]
  },
  {
   "cell_type": "code",
   "execution_count": 19,
   "id": "baa0b0fd",
   "metadata": {},
   "outputs": [],
   "source": [
    "# concat the dataframes\n",
    "\n",
    "users_new = pd.concat([user_id, users.iloc[:, 1], user_createdDate, user_lastLogin,users.iloc[:, 4:7]], axis=1)"
   ]
  },
  {
   "cell_type": "code",
   "execution_count": 20,
   "id": "18ab038e",
   "metadata": {},
   "outputs": [
    {
     "data": {
      "text/html": [
       "<div>\n",
       "<style scoped>\n",
       "    .dataframe tbody tr th:only-of-type {\n",
       "        vertical-align: middle;\n",
       "    }\n",
       "\n",
       "    .dataframe tbody tr th {\n",
       "        vertical-align: top;\n",
       "    }\n",
       "\n",
       "    .dataframe thead th {\n",
       "        text-align: right;\n",
       "    }\n",
       "</style>\n",
       "<table border=\"1\" class=\"dataframe\">\n",
       "  <thead>\n",
       "    <tr style=\"text-align: right;\">\n",
       "      <th></th>\n",
       "      <th>id</th>\n",
       "      <th>active</th>\n",
       "      <th>createdDate</th>\n",
       "      <th>lastLogin</th>\n",
       "      <th>role</th>\n",
       "      <th>signUpSource</th>\n",
       "      <th>state</th>\n",
       "    </tr>\n",
       "  </thead>\n",
       "  <tbody>\n",
       "    <tr>\n",
       "      <th>0</th>\n",
       "      <td>5ff1e194b6a9d73a3a9f1052</td>\n",
       "      <td>True</td>\n",
       "      <td>1609687444800</td>\n",
       "      <td>1.609688e+12</td>\n",
       "      <td>consumer</td>\n",
       "      <td>Email</td>\n",
       "      <td>WI</td>\n",
       "    </tr>\n",
       "    <tr>\n",
       "      <th>1</th>\n",
       "      <td>5ff1e194b6a9d73a3a9f1052</td>\n",
       "      <td>True</td>\n",
       "      <td>1609687444800</td>\n",
       "      <td>1.609688e+12</td>\n",
       "      <td>consumer</td>\n",
       "      <td>Email</td>\n",
       "      <td>WI</td>\n",
       "    </tr>\n",
       "    <tr>\n",
       "      <th>2</th>\n",
       "      <td>5ff1e194b6a9d73a3a9f1052</td>\n",
       "      <td>True</td>\n",
       "      <td>1609687444800</td>\n",
       "      <td>1.609688e+12</td>\n",
       "      <td>consumer</td>\n",
       "      <td>Email</td>\n",
       "      <td>WI</td>\n",
       "    </tr>\n",
       "    <tr>\n",
       "      <th>3</th>\n",
       "      <td>5ff1e1eacfcf6c399c274ae6</td>\n",
       "      <td>True</td>\n",
       "      <td>1609687530554</td>\n",
       "      <td>1.609688e+12</td>\n",
       "      <td>consumer</td>\n",
       "      <td>Email</td>\n",
       "      <td>WI</td>\n",
       "    </tr>\n",
       "    <tr>\n",
       "      <th>4</th>\n",
       "      <td>5ff1e194b6a9d73a3a9f1052</td>\n",
       "      <td>True</td>\n",
       "      <td>1609687444800</td>\n",
       "      <td>1.609688e+12</td>\n",
       "      <td>consumer</td>\n",
       "      <td>Email</td>\n",
       "      <td>WI</td>\n",
       "    </tr>\n",
       "  </tbody>\n",
       "</table>\n",
       "</div>"
      ],
      "text/plain": [
       "                         id  active    createdDate     lastLogin      role  \\\n",
       "0  5ff1e194b6a9d73a3a9f1052    True  1609687444800  1.609688e+12  consumer   \n",
       "1  5ff1e194b6a9d73a3a9f1052    True  1609687444800  1.609688e+12  consumer   \n",
       "2  5ff1e194b6a9d73a3a9f1052    True  1609687444800  1.609688e+12  consumer   \n",
       "3  5ff1e1eacfcf6c399c274ae6    True  1609687530554  1.609688e+12  consumer   \n",
       "4  5ff1e194b6a9d73a3a9f1052    True  1609687444800  1.609688e+12  consumer   \n",
       "\n",
       "  signUpSource state  \n",
       "0        Email    WI  \n",
       "1        Email    WI  \n",
       "2        Email    WI  \n",
       "3        Email    WI  \n",
       "4        Email    WI  "
      ]
     },
     "execution_count": 20,
     "metadata": {},
     "output_type": "execute_result"
    }
   ],
   "source": [
    "users_new.head()"
   ]
  },
  {
   "cell_type": "code",
   "execution_count": 21,
   "id": "3febb998",
   "metadata": {},
   "outputs": [],
   "source": [
    "users_new['createdDate']=users_new['createdDate'].apply(lambda x: datetime.utcfromtimestamp(int(x)/1000).strftime('%Y-%m-%d %H:%M:%S') if pd.notnull(x) else x)\n",
    "users_new['lastLogin']=users_new['lastLogin'].apply(lambda x: datetime.utcfromtimestamp(int(x)/1000).strftime('%Y-%m-%d %H:%M:%S') if pd.notnull(x) else x)\n",
    "\n"
   ]
  },
  {
   "cell_type": "code",
   "execution_count": 22,
   "id": "f4f21a0c",
   "metadata": {},
   "outputs": [
    {
     "data": {
      "text/html": [
       "<div>\n",
       "<style scoped>\n",
       "    .dataframe tbody tr th:only-of-type {\n",
       "        vertical-align: middle;\n",
       "    }\n",
       "\n",
       "    .dataframe tbody tr th {\n",
       "        vertical-align: top;\n",
       "    }\n",
       "\n",
       "    .dataframe thead th {\n",
       "        text-align: right;\n",
       "    }\n",
       "</style>\n",
       "<table border=\"1\" class=\"dataframe\">\n",
       "  <thead>\n",
       "    <tr style=\"text-align: right;\">\n",
       "      <th></th>\n",
       "      <th>id</th>\n",
       "      <th>active</th>\n",
       "      <th>createdDate</th>\n",
       "      <th>lastLogin</th>\n",
       "      <th>role</th>\n",
       "      <th>signUpSource</th>\n",
       "      <th>state</th>\n",
       "    </tr>\n",
       "  </thead>\n",
       "  <tbody>\n",
       "    <tr>\n",
       "      <th>0</th>\n",
       "      <td>5ff1e194b6a9d73a3a9f1052</td>\n",
       "      <td>True</td>\n",
       "      <td>2021-01-03 15:24:04</td>\n",
       "      <td>2021-01-03 15:25:37</td>\n",
       "      <td>consumer</td>\n",
       "      <td>Email</td>\n",
       "      <td>WI</td>\n",
       "    </tr>\n",
       "    <tr>\n",
       "      <th>1</th>\n",
       "      <td>5ff1e194b6a9d73a3a9f1052</td>\n",
       "      <td>True</td>\n",
       "      <td>2021-01-03 15:24:04</td>\n",
       "      <td>2021-01-03 15:25:37</td>\n",
       "      <td>consumer</td>\n",
       "      <td>Email</td>\n",
       "      <td>WI</td>\n",
       "    </tr>\n",
       "    <tr>\n",
       "      <th>2</th>\n",
       "      <td>5ff1e194b6a9d73a3a9f1052</td>\n",
       "      <td>True</td>\n",
       "      <td>2021-01-03 15:24:04</td>\n",
       "      <td>2021-01-03 15:25:37</td>\n",
       "      <td>consumer</td>\n",
       "      <td>Email</td>\n",
       "      <td>WI</td>\n",
       "    </tr>\n",
       "    <tr>\n",
       "      <th>3</th>\n",
       "      <td>5ff1e1eacfcf6c399c274ae6</td>\n",
       "      <td>True</td>\n",
       "      <td>2021-01-03 15:25:30</td>\n",
       "      <td>2021-01-03 15:25:30</td>\n",
       "      <td>consumer</td>\n",
       "      <td>Email</td>\n",
       "      <td>WI</td>\n",
       "    </tr>\n",
       "    <tr>\n",
       "      <th>4</th>\n",
       "      <td>5ff1e194b6a9d73a3a9f1052</td>\n",
       "      <td>True</td>\n",
       "      <td>2021-01-03 15:24:04</td>\n",
       "      <td>2021-01-03 15:25:37</td>\n",
       "      <td>consumer</td>\n",
       "      <td>Email</td>\n",
       "      <td>WI</td>\n",
       "    </tr>\n",
       "  </tbody>\n",
       "</table>\n",
       "</div>"
      ],
      "text/plain": [
       "                         id  active          createdDate            lastLogin  \\\n",
       "0  5ff1e194b6a9d73a3a9f1052    True  2021-01-03 15:24:04  2021-01-03 15:25:37   \n",
       "1  5ff1e194b6a9d73a3a9f1052    True  2021-01-03 15:24:04  2021-01-03 15:25:37   \n",
       "2  5ff1e194b6a9d73a3a9f1052    True  2021-01-03 15:24:04  2021-01-03 15:25:37   \n",
       "3  5ff1e1eacfcf6c399c274ae6    True  2021-01-03 15:25:30  2021-01-03 15:25:30   \n",
       "4  5ff1e194b6a9d73a3a9f1052    True  2021-01-03 15:24:04  2021-01-03 15:25:37   \n",
       "\n",
       "       role signUpSource state  \n",
       "0  consumer        Email    WI  \n",
       "1  consumer        Email    WI  \n",
       "2  consumer        Email    WI  \n",
       "3  consumer        Email    WI  \n",
       "4  consumer        Email    WI  "
      ]
     },
     "execution_count": 22,
     "metadata": {},
     "output_type": "execute_result"
    }
   ],
   "source": [
    "users_new.head()"
   ]
  },
  {
   "cell_type": "markdown",
   "id": "35771f0b",
   "metadata": {},
   "source": [
    "### Read brands"
   ]
  },
  {
   "cell_type": "code",
   "execution_count": 23,
   "id": "5770d306",
   "metadata": {},
   "outputs": [],
   "source": [
    "# Opening users JSON file\n",
    "\n",
    "brand = []\n",
    "with open('brands.json') as f:\n",
    "    for line in f:\n",
    "        brand.append(json.loads(line))\n",
    "        \n",
    "# Convert to dataframe\n",
    "\n",
    "brands = pd.DataFrame(brand)"
   ]
  },
  {
   "cell_type": "code",
   "execution_count": 24,
   "id": "ac29fc35",
   "metadata": {},
   "outputs": [
    {
     "data": {
      "text/html": [
       "<div>\n",
       "<style scoped>\n",
       "    .dataframe tbody tr th:only-of-type {\n",
       "        vertical-align: middle;\n",
       "    }\n",
       "\n",
       "    .dataframe tbody tr th {\n",
       "        vertical-align: top;\n",
       "    }\n",
       "\n",
       "    .dataframe thead th {\n",
       "        text-align: right;\n",
       "    }\n",
       "</style>\n",
       "<table border=\"1\" class=\"dataframe\">\n",
       "  <thead>\n",
       "    <tr style=\"text-align: right;\">\n",
       "      <th></th>\n",
       "      <th>_id</th>\n",
       "      <th>barcode</th>\n",
       "      <th>category</th>\n",
       "      <th>categoryCode</th>\n",
       "      <th>cpg</th>\n",
       "      <th>name</th>\n",
       "      <th>topBrand</th>\n",
       "      <th>brandCode</th>\n",
       "    </tr>\n",
       "  </thead>\n",
       "  <tbody>\n",
       "    <tr>\n",
       "      <th>0</th>\n",
       "      <td>{'$oid': '601ac115be37ce2ead437551'}</td>\n",
       "      <td>511111019862</td>\n",
       "      <td>Baking</td>\n",
       "      <td>BAKING</td>\n",
       "      <td>{'$id': {'$oid': '601ac114be37ce2ead437550'}, ...</td>\n",
       "      <td>test brand @1612366101024</td>\n",
       "      <td>False</td>\n",
       "      <td>NaN</td>\n",
       "    </tr>\n",
       "    <tr>\n",
       "      <th>1</th>\n",
       "      <td>{'$oid': '601c5460be37ce2ead43755f'}</td>\n",
       "      <td>511111519928</td>\n",
       "      <td>Beverages</td>\n",
       "      <td>BEVERAGES</td>\n",
       "      <td>{'$id': {'$oid': '5332f5fbe4b03c9a25efd0ba'}, ...</td>\n",
       "      <td>Starbucks</td>\n",
       "      <td>False</td>\n",
       "      <td>STARBUCKS</td>\n",
       "    </tr>\n",
       "    <tr>\n",
       "      <th>2</th>\n",
       "      <td>{'$oid': '601ac142be37ce2ead43755d'}</td>\n",
       "      <td>511111819905</td>\n",
       "      <td>Baking</td>\n",
       "      <td>BAKING</td>\n",
       "      <td>{'$id': {'$oid': '601ac142be37ce2ead437559'}, ...</td>\n",
       "      <td>test brand @1612366146176</td>\n",
       "      <td>False</td>\n",
       "      <td>TEST BRANDCODE @1612366146176</td>\n",
       "    </tr>\n",
       "    <tr>\n",
       "      <th>3</th>\n",
       "      <td>{'$oid': '601ac142be37ce2ead43755a'}</td>\n",
       "      <td>511111519874</td>\n",
       "      <td>Baking</td>\n",
       "      <td>BAKING</td>\n",
       "      <td>{'$id': {'$oid': '601ac142be37ce2ead437559'}, ...</td>\n",
       "      <td>test brand @1612366146051</td>\n",
       "      <td>False</td>\n",
       "      <td>TEST BRANDCODE @1612366146051</td>\n",
       "    </tr>\n",
       "    <tr>\n",
       "      <th>4</th>\n",
       "      <td>{'$oid': '601ac142be37ce2ead43755e'}</td>\n",
       "      <td>511111319917</td>\n",
       "      <td>Candy &amp; Sweets</td>\n",
       "      <td>CANDY_AND_SWEETS</td>\n",
       "      <td>{'$id': {'$oid': '5332fa12e4b03c9a25efd1e7'}, ...</td>\n",
       "      <td>test brand @1612366146827</td>\n",
       "      <td>False</td>\n",
       "      <td>TEST BRANDCODE @1612366146827</td>\n",
       "    </tr>\n",
       "  </tbody>\n",
       "</table>\n",
       "</div>"
      ],
      "text/plain": [
       "                                    _id       barcode        category  \\\n",
       "0  {'$oid': '601ac115be37ce2ead437551'}  511111019862          Baking   \n",
       "1  {'$oid': '601c5460be37ce2ead43755f'}  511111519928       Beverages   \n",
       "2  {'$oid': '601ac142be37ce2ead43755d'}  511111819905          Baking   \n",
       "3  {'$oid': '601ac142be37ce2ead43755a'}  511111519874          Baking   \n",
       "4  {'$oid': '601ac142be37ce2ead43755e'}  511111319917  Candy & Sweets   \n",
       "\n",
       "       categoryCode                                                cpg  \\\n",
       "0            BAKING  {'$id': {'$oid': '601ac114be37ce2ead437550'}, ...   \n",
       "1         BEVERAGES  {'$id': {'$oid': '5332f5fbe4b03c9a25efd0ba'}, ...   \n",
       "2            BAKING  {'$id': {'$oid': '601ac142be37ce2ead437559'}, ...   \n",
       "3            BAKING  {'$id': {'$oid': '601ac142be37ce2ead437559'}, ...   \n",
       "4  CANDY_AND_SWEETS  {'$id': {'$oid': '5332fa12e4b03c9a25efd1e7'}, ...   \n",
       "\n",
       "                        name topBrand                      brandCode  \n",
       "0  test brand @1612366101024    False                            NaN  \n",
       "1                  Starbucks    False                      STARBUCKS  \n",
       "2  test brand @1612366146176    False  TEST BRANDCODE @1612366146176  \n",
       "3  test brand @1612366146051    False  TEST BRANDCODE @1612366146051  \n",
       "4  test brand @1612366146827    False  TEST BRANDCODE @1612366146827  "
      ]
     },
     "execution_count": 24,
     "metadata": {},
     "output_type": "execute_result"
    }
   ],
   "source": [
    "brands.head()"
   ]
  },
  {
   "cell_type": "code",
   "execution_count": 25,
   "id": "477a0e23",
   "metadata": {},
   "outputs": [
    {
     "data": {
      "text/plain": [
       "(1167, 8)"
      ]
     },
     "execution_count": 25,
     "metadata": {},
     "output_type": "execute_result"
    }
   ],
   "source": [
    "brands.shape"
   ]
  },
  {
   "cell_type": "code",
   "execution_count": 26,
   "id": "e9a1c6a3",
   "metadata": {},
   "outputs": [],
   "source": [
    "# normalize and renamedictionary columns \n",
    "\n",
    "brand_id=pd.json_normalize(brands['_id'])\n",
    "brand_id.rename(columns = {'$oid':'id'}, inplace = True)\n",
    "\n",
    "brand_cpg=pd.json_normalize(brands['cpg'])\n",
    "brand_cpg.rename(columns = {'$ref':'cpg_ref','$id.$oid': 'cpg_id'}, inplace = True)"
   ]
  },
  {
   "cell_type": "code",
   "execution_count": 27,
   "id": "8041641b",
   "metadata": {},
   "outputs": [],
   "source": [
    "# concat the dataframes\n",
    "\n",
    "brands_new = pd.concat([brand_id, brands.iloc[:, 1:3], brand_cpg, brands.iloc[:, 5:8]], axis=1)"
   ]
  },
  {
   "cell_type": "code",
   "execution_count": 28,
   "id": "a5de2361",
   "metadata": {},
   "outputs": [
    {
     "data": {
      "text/html": [
       "<div>\n",
       "<style scoped>\n",
       "    .dataframe tbody tr th:only-of-type {\n",
       "        vertical-align: middle;\n",
       "    }\n",
       "\n",
       "    .dataframe tbody tr th {\n",
       "        vertical-align: top;\n",
       "    }\n",
       "\n",
       "    .dataframe thead th {\n",
       "        text-align: right;\n",
       "    }\n",
       "</style>\n",
       "<table border=\"1\" class=\"dataframe\">\n",
       "  <thead>\n",
       "    <tr style=\"text-align: right;\">\n",
       "      <th></th>\n",
       "      <th>id</th>\n",
       "      <th>barcode</th>\n",
       "      <th>category</th>\n",
       "      <th>cpg_ref</th>\n",
       "      <th>cpg_id</th>\n",
       "      <th>name</th>\n",
       "      <th>topBrand</th>\n",
       "      <th>brandCode</th>\n",
       "    </tr>\n",
       "  </thead>\n",
       "  <tbody>\n",
       "    <tr>\n",
       "      <th>0</th>\n",
       "      <td>601ac115be37ce2ead437551</td>\n",
       "      <td>511111019862</td>\n",
       "      <td>Baking</td>\n",
       "      <td>Cogs</td>\n",
       "      <td>601ac114be37ce2ead437550</td>\n",
       "      <td>test brand @1612366101024</td>\n",
       "      <td>False</td>\n",
       "      <td>NaN</td>\n",
       "    </tr>\n",
       "    <tr>\n",
       "      <th>1</th>\n",
       "      <td>601c5460be37ce2ead43755f</td>\n",
       "      <td>511111519928</td>\n",
       "      <td>Beverages</td>\n",
       "      <td>Cogs</td>\n",
       "      <td>5332f5fbe4b03c9a25efd0ba</td>\n",
       "      <td>Starbucks</td>\n",
       "      <td>False</td>\n",
       "      <td>STARBUCKS</td>\n",
       "    </tr>\n",
       "    <tr>\n",
       "      <th>2</th>\n",
       "      <td>601ac142be37ce2ead43755d</td>\n",
       "      <td>511111819905</td>\n",
       "      <td>Baking</td>\n",
       "      <td>Cogs</td>\n",
       "      <td>601ac142be37ce2ead437559</td>\n",
       "      <td>test brand @1612366146176</td>\n",
       "      <td>False</td>\n",
       "      <td>TEST BRANDCODE @1612366146176</td>\n",
       "    </tr>\n",
       "    <tr>\n",
       "      <th>3</th>\n",
       "      <td>601ac142be37ce2ead43755a</td>\n",
       "      <td>511111519874</td>\n",
       "      <td>Baking</td>\n",
       "      <td>Cogs</td>\n",
       "      <td>601ac142be37ce2ead437559</td>\n",
       "      <td>test brand @1612366146051</td>\n",
       "      <td>False</td>\n",
       "      <td>TEST BRANDCODE @1612366146051</td>\n",
       "    </tr>\n",
       "    <tr>\n",
       "      <th>4</th>\n",
       "      <td>601ac142be37ce2ead43755e</td>\n",
       "      <td>511111319917</td>\n",
       "      <td>Candy &amp; Sweets</td>\n",
       "      <td>Cogs</td>\n",
       "      <td>5332fa12e4b03c9a25efd1e7</td>\n",
       "      <td>test brand @1612366146827</td>\n",
       "      <td>False</td>\n",
       "      <td>TEST BRANDCODE @1612366146827</td>\n",
       "    </tr>\n",
       "  </tbody>\n",
       "</table>\n",
       "</div>"
      ],
      "text/plain": [
       "                         id       barcode        category cpg_ref  \\\n",
       "0  601ac115be37ce2ead437551  511111019862          Baking    Cogs   \n",
       "1  601c5460be37ce2ead43755f  511111519928       Beverages    Cogs   \n",
       "2  601ac142be37ce2ead43755d  511111819905          Baking    Cogs   \n",
       "3  601ac142be37ce2ead43755a  511111519874          Baking    Cogs   \n",
       "4  601ac142be37ce2ead43755e  511111319917  Candy & Sweets    Cogs   \n",
       "\n",
       "                     cpg_id                       name topBrand  \\\n",
       "0  601ac114be37ce2ead437550  test brand @1612366101024    False   \n",
       "1  5332f5fbe4b03c9a25efd0ba                  Starbucks    False   \n",
       "2  601ac142be37ce2ead437559  test brand @1612366146176    False   \n",
       "3  601ac142be37ce2ead437559  test brand @1612366146051    False   \n",
       "4  5332fa12e4b03c9a25efd1e7  test brand @1612366146827    False   \n",
       "\n",
       "                       brandCode  \n",
       "0                            NaN  \n",
       "1                      STARBUCKS  \n",
       "2  TEST BRANDCODE @1612366146176  \n",
       "3  TEST BRANDCODE @1612366146051  \n",
       "4  TEST BRANDCODE @1612366146827  "
      ]
     },
     "execution_count": 28,
     "metadata": {},
     "output_type": "execute_result"
    }
   ],
   "source": [
    "brands_new.head()"
   ]
  },
  {
   "cell_type": "markdown",
   "id": "c5d8b06a",
   "metadata": {},
   "source": [
    "I used Lucid Chart to draw the relational diagram based on the structured data above. \n",
    "https://lucid.app/lucidchart/f07410c1-bbc9-4bf9-a2dc-71d74df18013/edit?viewport_loc=-23%2C-10%2C1946%2C892%2C0_0&invitationId=inv_8b2381c2-3a00-4a6c-9822-99364abf5843#\n"
   ]
  },
  {
   "cell_type": "markdown",
   "id": "b222d7b8",
   "metadata": {},
   "source": [
    "## Second: Write a query that directly answers a predetermined question from a business stakeholder"
   ]
  },
  {
   "cell_type": "code",
   "execution_count": 29,
   "id": "dbe8551b",
   "metadata": {},
   "outputs": [],
   "source": [
    "# Convert dataframe to SQL table\n",
    "\n",
    "engine = create_engine('sqlite://', echo=False)\n",
    "\n",
    "receipts_new.to_sql('receipts',con=engine)\n",
    "brands_new.to_sql('brands',con=engine)\n",
    "users_new.to_sql('users',con=engine)\n"
   ]
  },
  {
   "cell_type": "code",
   "execution_count": 30,
   "id": "5c7dbc10",
   "metadata": {},
   "outputs": [
    {
     "name": "stdout",
     "output_type": "stream",
     "text": [
      "[('2021-03',), ('2021-02',), ('2021-01',), ('2020-11',), ('2020-10',)]\n"
     ]
    }
   ],
   "source": [
    "# Q1. What are the top 5 brands by receipts scanned for most recent month?\n",
    "\n",
    "\n",
    "# To answer Q1, we need to know when is the most recent month first\n",
    "\n",
    "print(engine.execute(\"SELECT distinct substring(dateScanned, 1, 7) as time from receipts order by time desc\").fetchall())  \n"
   ]
  },
  {
   "cell_type": "code",
   "execution_count": 31,
   "id": "010ee74c",
   "metadata": {},
   "outputs": [
    {
     "name": "stdout",
     "output_type": "stream",
     "text": [
      "[]\n"
     ]
    }
   ],
   "source": [
    "print(engine.execute('''SELECT b.name, count(r.id) as receipts_num \n",
    "                     from receipts r \n",
    "                     join brands b \n",
    "                     on r.brandCode = b.brandCode\n",
    "                     where substring(r.dateScanned, 1, 7) = \"2021-03\"\n",
    "                     group by b.name \n",
    "                     order by receipts_num desc \n",
    "                     limit 5 ''').fetchall())  \n",
    "\n"
   ]
  },
  {
   "cell_type": "code",
   "execution_count": 32,
   "id": "d9fc1e53",
   "metadata": {},
   "outputs": [
    {
     "name": "stdout",
     "output_type": "stream",
     "text": [
      "[('2020-10', 0), ('2020-11', 0), ('2021-01', 226), ('2021-02', 3), ('2021-03', 0)]\n"
     ]
    }
   ],
   "source": [
    "# It seems there is no brandcode in Mar 2021, let's see if this is a mapping problem\n",
    "\n",
    "print(engine.execute(\"SELECT distinct substring(dateScanned, 1, 7) as time, count(distinct brandCode) from receipts group by time\").fetchall())  \n",
    "\n"
   ]
  },
  {
   "cell_type": "markdown",
   "id": "655bc90f",
   "metadata": {},
   "source": [
    "So we can see that there is no brandcode in March. Let's also check other months."
   ]
  },
  {
   "cell_type": "code",
   "execution_count": 33,
   "id": "723ba688",
   "metadata": {},
   "outputs": [
    {
     "name": "stdout",
     "output_type": "stream",
     "text": [
      "[('Viva', 1)]\n"
     ]
    }
   ],
   "source": [
    "# Check the brand name for Feb 2021\n",
    "\n",
    "print(engine.execute('''SELECT b.name, count(r.id) as receipts_num \n",
    "                     from receipts r \n",
    "                     join brands b \n",
    "                     on r.brandCode = b.brandCode\n",
    "                     where substring(r.dateScanned, 1, 7) = \"2021-02\"\n",
    "                     group by b.name \n",
    "                     order by receipts_num desc \n",
    "                     limit 5 ''').fetchall())  "
   ]
  },
  {
   "cell_type": "code",
   "execution_count": 34,
   "id": "4b0a0277",
   "metadata": {},
   "outputs": [
    {
     "name": "stdout",
     "output_type": "stream",
     "text": [
      "[(None,), ('BRAND',), ('MISSION',), ('VIVA',)]\n"
     ]
    }
   ],
   "source": [
    "# Get all the unique brandcode in Feb 2021\n",
    "\n",
    "print(engine.execute(\"SELECT distinct brandCode from receipts where substring(dateScanned, 1, 7) = '2021-02'\").fetchall())  \n"
   ]
  },
  {
   "cell_type": "markdown",
   "id": "33adcfa4",
   "metadata": {},
   "source": [
    "As we can see that there should have three distinct brandcodes in Feb 2021, but we only get 1 brandname from brands table, which means there are more unique brandcodes in receipts table than in brands table. So this is one of the data quality issuse we need to pay attention to in the third step later."
   ]
  },
  {
   "cell_type": "code",
   "execution_count": 35,
   "id": "df0353da",
   "metadata": {},
   "outputs": [
    {
     "name": "stdout",
     "output_type": "stream",
     "text": [
      "[(None, 509), ('BRAND', 3), ('MISSION', 2), ('VIVA', 1)]\n"
     ]
    }
   ],
   "source": [
    "# Q2. How does the ranking of the top 5 brands by receipts scanned for the recent month compare to the ranking \n",
    "# for the previous month?\n",
    "\n",
    "print(engine.execute(\"SELECT distinct brandCode as brandcode, count(id) from receipts where substring(dateScanned, 1, 7) = '2021-02' group by brandcode\").fetchall())  \n"
   ]
  },
  {
   "cell_type": "markdown",
   "id": "e970a565",
   "metadata": {},
   "source": [
    "We have answered this question in Q1. There is no brandcode Mar 2021 and only three brandcodes in Feb 2021. The ranking for the three brandcodes in Feb 2021 are BRAND, MISSION and VIVA."
   ]
  },
  {
   "cell_type": "code",
   "execution_count": 36,
   "id": "b8e0f690",
   "metadata": {},
   "outputs": [
    {
     "name": "stdout",
     "output_type": "stream",
     "text": [
      "[('FINISHED', 80.85), ('FLAGGED', 180.45), ('PENDING', 28.03), ('REJECTED', 23.33), ('SUBMITTED', None)]\n"
     ]
    }
   ],
   "source": [
    "# Q3. When considering average spend from receipts with 'rewardsReceiptStatus’ of ‘Accepted’ or ‘Rejected’, \n",
    "# which is greater?\n",
    "\n",
    "print(engine.execute('''select a.rewardsReceiptStatus, round(avg(a.spent),2)\n",
    "                        from (\n",
    "                        SELECT distinct id as id, max(totalSpent) as spent, rewardsReceiptStatus\n",
    "                        from receipts \n",
    "                        group by id) a\n",
    "                        group by rewardsReceiptStatus''').fetchall())               "
   ]
  },
  {
   "cell_type": "markdown",
   "id": "2f76582e",
   "metadata": {},
   "source": [
    "I assume the 'Accepted' in the question means 'FINISHED' here. So we can see the average spend of FINISHED is greater than that of REJECTED."
   ]
  },
  {
   "cell_type": "code",
   "execution_count": 37,
   "id": "f7192431",
   "metadata": {},
   "outputs": [
    {
     "name": "stdout",
     "output_type": "stream",
     "text": [
      "[('FINISHED', 8184.0), ('FLAGGED', 1014.0), ('PENDING', None), ('REJECTED', 173.0), ('SUBMITTED', None)]\n"
     ]
    }
   ],
   "source": [
    "# Q4. When considering total number of items purchased from receipts with 'rewardsReceiptStatus’ of ‘Accepted’ \n",
    "# or ‘Rejected’, which is greater?\n",
    "\n",
    "print(engine.execute('''select a.rewardsReceiptStatus, round(sum(purchase),2)\n",
    "                        from (\n",
    "                        SELECT distinct id as id, max(purchasedItemCount) as purchase, rewardsReceiptStatus\n",
    "                        from receipts \n",
    "                        group by id) a\n",
    "                        group by rewardsReceiptStatus''').fetchall())               "
   ]
  },
  {
   "cell_type": "markdown",
   "id": "726098a2",
   "metadata": {},
   "source": [
    "I assume the 'Accepted' in the question means 'FINISHED' here. So we can see the total number of items purchased of FINISHED is greater than that of REJECTED."
   ]
  },
  {
   "cell_type": "code",
   "execution_count": 38,
   "id": "a6e7ff39",
   "metadata": {},
   "outputs": [
    {
     "name": "stdout",
     "output_type": "stream",
     "text": [
      "[('2014-12',), ('2015-04',), ('2017-07',), ('2017-09',), ('2017-12',), ('2020-01',), ('2020-07',), ('2020-11',), ('2020-12',), ('2021-01',), ('2021-02',)]\n"
     ]
    }
   ],
   "source": [
    "# Q5. Which brand has the most spend among users who were created within the past 6 months?\n",
    "\n",
    "# Let's first see the year and month of createdDate column in Users table.\n",
    "\n",
    "print(engine.execute(\"SELECT distinct substring(createdDate, 1, 7) as createdtime from users order by createdtime\").fetchall())  \n"
   ]
  },
  {
   "cell_type": "markdown",
   "id": "f03623bd",
   "metadata": {},
   "source": [
    "Since the most recent month in receipts table is Mar 2021, we assume that it is now March 2021, so the last six months would be from October 2020."
   ]
  },
  {
   "cell_type": "code",
   "execution_count": 39,
   "id": "09d508bf",
   "metadata": {},
   "outputs": [
    {
     "name": "stdout",
     "output_type": "stream",
     "text": [
      "[(None, 21092.27), ('BEN AND JERRYS', 1217.4), (\"HEMPLER'S\", 800.55), ('CRACKER BARREL', 703.5), ('HY-VEE', 656.62)]\n"
     ]
    }
   ],
   "source": [
    "print(engine.execute('''\n",
    "                        SELECT r.brandCode, round(sum(r.finalPrice),2)\n",
    "                        from receipts r\n",
    "                        where r.userId in (\n",
    "                           SELECT id \n",
    "                           from users u \n",
    "                           where substring(createdDate, 1, 7) between '2020-10' and '2021-03')\n",
    "                        group by brandCode\n",
    "                        order by 2 desc\n",
    "                        limit 5''').fetchall()) "
   ]
  },
  {
   "cell_type": "markdown",
   "id": "e66f4883",
   "metadata": {},
   "source": [
    "We can see since a lot of items do not have brandcode, the brand that has the most spend among users who were created within the past 6 months is BEN AND JERRYS."
   ]
  },
  {
   "cell_type": "code",
   "execution_count": 40,
   "id": "371c35cc",
   "metadata": {},
   "outputs": [
    {
     "name": "stdout",
     "output_type": "stream",
     "text": [
      "[('HY-VEE', 291), ('BEN AND JERRYS', 100), ('PEPSI', 74), ('KLEENEX', 70), ('KNORR', 60)]\n"
     ]
    }
   ],
   "source": [
    "# Q6. Which brand has the most transactions among users who were created within the past 6 months?\n",
    "\n",
    "\n",
    "print(engine.execute('''\n",
    "                        SELECT r.brandCode, count(r.brandCode)\n",
    "                        from receipts r\n",
    "                        where r.userId in (\n",
    "                           SELECT id \n",
    "                           from users \n",
    "                           where substring(createdDate, 1, 7) between '2020-10' and '2021-03')\n",
    "                        group by brandCode\n",
    "                        order by 2 desc\n",
    "                        limit 5''').fetchall()) "
   ]
  },
  {
   "cell_type": "markdown",
   "id": "fa20573a",
   "metadata": {},
   "source": [
    "The brand that has the most transactions among users who were created within the past 6 months is HY-VEE."
   ]
  },
  {
   "cell_type": "markdown",
   "id": "72a4d364",
   "metadata": {},
   "source": [
    "## Third: Evaluate Data Quality Issues in the Data Provided"
   ]
  },
  {
   "cell_type": "markdown",
   "id": "01cda7cc",
   "metadata": {},
   "source": [
    "### 1. Check duplicate records"
   ]
  },
  {
   "cell_type": "code",
   "execution_count": 41,
   "id": "4ef677d8",
   "metadata": {},
   "outputs": [
    {
     "data": {
      "text/plain": [
       "283"
      ]
     },
     "execution_count": 41,
     "metadata": {},
     "output_type": "execute_result"
    }
   ],
   "source": [
    "# calculate duplicates for users\n",
    "\n",
    "len(users_new)-len(users_new.drop_duplicates())"
   ]
  },
  {
   "cell_type": "markdown",
   "id": "66fd2283",
   "metadata": {},
   "source": [
    "There are 495 records in users file, and more than half (283) records are dulicate rows. "
   ]
  },
  {
   "cell_type": "code",
   "execution_count": 42,
   "id": "c203756f",
   "metadata": {},
   "outputs": [
    {
     "data": {
      "text/plain": [
       "0"
      ]
     },
     "execution_count": 42,
     "metadata": {},
     "output_type": "execute_result"
    }
   ],
   "source": [
    "# calculate duplicates for brands\n",
    "\n",
    "len(brands_new)-len(brands_new.drop_duplicates())"
   ]
  },
  {
   "cell_type": "code",
   "execution_count": 43,
   "id": "712d4734",
   "metadata": {},
   "outputs": [
    {
     "data": {
      "text/plain": [
       "0"
      ]
     },
     "execution_count": 43,
     "metadata": {},
     "output_type": "execute_result"
    }
   ],
   "source": [
    "# calculate duplicates for receipts\n",
    "\n",
    "len(receipts_new)-len(receipts_new.drop_duplicates())"
   ]
  },
  {
   "cell_type": "markdown",
   "id": "5d645d0b",
   "metadata": {},
   "source": [
    "There is no duplicate records in receipts and brands file.\n",
    "\n",
    "Duplicated records will increase the size of the file and cause problem when joining two tables . So it's better to remove duplicated records."
   ]
  },
  {
   "cell_type": "markdown",
   "id": "d0c49e44",
   "metadata": {},
   "source": [
    "### 2. Missing keys"
   ]
  },
  {
   "cell_type": "markdown",
   "id": "fdcd28a7",
   "metadata": {},
   "source": [
    "When answering Q1, we found that some brandcodes are not in brand file. This will cause problems when we join tables. So here we are going to check the missing brandcodes in brands table and missing userID in users table since these two variables are the foreign key in the receipt table to join the other two tables."
   ]
  },
  {
   "cell_type": "code",
   "execution_count": 44,
   "id": "46b4509e",
   "metadata": {},
   "outputs": [
    {
     "name": "stdout",
     "output_type": "stream",
     "text": [
      "['MISSION']\n",
      "['BRAND']\n",
      "['KRAFT EASY CHEESE']\n",
      "['WINGSTOP']\n",
      "['GERM-X']\n",
      "['BEN AND JERRYS']\n",
      "['BORDEN']\n",
      "['KLARBRUNN']\n",
      "['HY-VEE']\n",
      "['LIGHT & FIT GREEK']\n",
      "[\"CONNIE'S PIZZA\"]\n",
      "[\"VAN DE KAMP'S\"]\n",
      "['HATCH FARMS']\n",
      "[\"KELLOGG'S\"]\n",
      "['TEMPTATIONS']\n",
      "[\"NATURE'S PATH ORGANIC\"]\n",
      "['DOLE']\n",
      "['EL MONTEREY']\n",
      "['BIGELOW']\n",
      "['HY-VEE SELECT']\n",
      "['KIKKOMAN']\n",
      "['SPECIAL K']\n",
      "['HILLSHIRE FARM']\n",
      "['JUST BARE']\n",
      "[\"LAURA'S LEAN BEEF\"]\n",
      "['CAL-ORGANIC FARMS']\n",
      "[\"BUSH'S BEST\"]\n",
      "['FOLGERS']\n",
      "['KASHI']\n",
      "['LIPTON']\n",
      "['GREEN GIANT']\n",
      "['HARVEST SNAPS']\n",
      "[\"THAT'S SMART!\"]\n",
      "['ADVIL']\n",
      "['CHICKEN OF THE SEA']\n",
      "['STARKIST']\n",
      "['TIC TAC']\n",
      "['SO DELICIOUS']\n",
      "['WONDERFUL']\n",
      "['LIGHT & FIT']\n",
      "['HANOVER']\n",
      "['HIDDEN VALLEY']\n",
      "['DANNON']\n",
      "['FAGE']\n",
      "['ORAL-B GLIDE']\n",
      "[\"CAMPBELL'S\"]\n",
      "[\"FRENCH'S\"]\n",
      "['CRISPIX']\n",
      "['KING ARTHUR FLOUR']\n",
      "['KITCHEN BASICS']\n",
      "['MCCORMICK']\n",
      "['OLD EL PASO']\n",
      "['ZESTA']\n",
      "['AZTECA']\n",
      "['BUNNY']\n",
      "['HONEY BUNCHES OF OATS']\n",
      "['SIMPLE TRUTH ORGANIC']\n",
      "['BOTA BOX']\n",
      "['DARE']\n",
      "['LINDT']\n",
      "['ORGANIC ROOT STIMULATOR']\n",
      "[\"MERKT'S\"]\n",
      "['MORTON']\n",
      "['FRONTERA']\n",
      "['KARO']\n",
      "['CHEESE']\n",
      "[\"FLORIDA'S NATURAL\"]\n",
      "['BLUE DIAMOND']\n",
      "['LUNDBERG FAMILY FARMS']\n",
      "['NUTRI-GRAIN']\n",
      "['DIGIORNO']\n",
      "['KEMPS']\n",
      "['THAI KITCHEN']\n",
      "[\"THOMAS'\"]\n",
      "['POWER CRUNCH']\n",
      "['GERBER']\n",
      "['ORGANICVILLE']\n",
      "['PURINA ONE']\n",
      "['DR PEPPER']\n",
      "['C&H']\n",
      "['CHEERIOS']\n",
      "['SIMPLE TRUTH']\n",
      "[\"STOUFFER'S\"]\n",
      "['PRINGLES']\n",
      "['MCCORMICK GRILL MATES']\n",
      "['THOMAS ENGLISH MUFFINS']\n",
      "[\"MARTINELLI'S\"]\n",
      "[\"MARIE CALLENDER'S\"]\n",
      "[\"HEMPLER'S\"]\n",
      "['JIMMY DEAN']\n",
      "['SIGNATURE']\n",
      "['FRESH EXPRESS']\n",
      "['NABISCO']\n",
      "['RITZ TOASTED CHIPS']\n",
      "['RAGU']\n",
      "['KRUSTEAZ']\n",
      "['PILLSBURY']\n",
      "['TILLAMOOK']\n",
      "['TYSON']\n",
      "['BEAR CREEK COUNTRY KITCHENS']\n",
      "['BIC']\n",
      "['GENERAL MILLS']\n",
      "[\"JACK LINK'S\"]\n",
      "['PROGRESSO']\n",
      "['RENUZIT']\n",
      "[\"BRASWELL'S\"]\n",
      "['JOHNSONVILLE']\n",
      "['OREO']\n",
      "['THOMAS']\n",
      "['FRANZ']\n",
      "['BETTY CROCKER']\n",
      "['CHEX']\n",
      "['CINNAMON TOAST CRUNCH']\n",
      "['TROLLI']\n",
      "['ORBIT']\n",
      "['WISHBONE']\n",
      "[\"WELCH'S\"]\n",
      "['PEARLS']\n",
      "['NUTELLA']\n",
      "['KRAZY GLUE']\n",
      "['VITAL FARMS ALFRESCO EGGS']\n",
      "['OVALTINE']\n",
      "['LA BANDERITA']\n",
      "['GRIMMWAY FARMS']\n",
      "['EGGO']\n",
      "['SABRA']\n",
      "[\"MRS. RENFRO'S\"]\n",
      "[\"REESE'S\"]\n",
      "['KIT KAT']\n",
      "['FORTUNE YAKISOBA']\n",
      "['POMPEIAN']\n",
      "['SIMPLY POTATOES']\n",
      "['CHIQUITA']\n",
      "['CHEEZ-IT']\n",
      "['FRESH STEP']\n",
      "['SIGNATURE KITCHEN']\n",
      "['ENERGIZER MAX']\n",
      "[\"HERSHEY'S KISSES\"]\n",
      "['KERR']\n",
      "['PRIVATE SELECTION']\n",
      "['SKITTLES']\n",
      "['KROGER']\n",
      "['JOHN SOULES FOODS']\n",
      "['COLEMAN NATURAL']\n",
      "['SPARKLING ICE']\n",
      "[\"STOUFFER'S CLASSICS\"]\n",
      "[\"BOAR'S HEAD\"]\n",
      "[\"JACK DANIEL'S READY TO EAT\"]\n",
      "['ESSENTIAL EVERYDAY']\n",
      "[\"EGGLAND'S BEST\"]\n",
      "[\"MRS. CUBBISON'S\"]\n",
      "['GALLO FAMILY VINEYARDS']\n",
      "['LITEHOUSE']\n",
      "['CADBURY']\n",
      "['TOP FLIGHT']\n",
      "['LINDSAY']\n",
      "['HEWLETT PACKARD']\n",
      "['PLAYTEX']\n",
      "['CREST 3D WHITE']\n",
      "['HORMEL']\n",
      "['SMITHFIELD']\n",
      "['JENNIE-O']\n",
      "['COKE']\n",
      "['DIET COKE']\n",
      "['R.W. KNUDSEN']\n",
      "['7UP']\n",
      "['HAWAIIAN']\n",
      "['TAYLOR FARMS']\n",
      "['RITZ']\n",
      "['ARROWHEAD']\n",
      "['EDWARDS']\n",
      "['TOLL HOUSE']\n",
      "['NESTLE']\n",
      "[\"SCHWEBEL'S\"]\n",
      "[\"MARIE'S\"]\n",
      "['JELLY BELLY']\n",
      "['KERRYGOLD']\n",
      "['CARAMELLO']\n",
      "['CALIFIA FARMS']\n",
      "[\"FAMOUS DAVE'S\"]\n",
      "['BANZA']\n",
      "['AMERICAN BEAUTY']\n",
      "['DELI']\n",
      "['HERITAGE FARM']\n",
      "['ROSARITA']\n",
      "['SHOPRITE']\n"
     ]
    }
   ],
   "source": [
    "# Find brandcodes in receipts but not in brands\n",
    "\n",
    "for i in receipts_new['brandCode'].unique():\n",
    "    if i not in list(brands['brandCode'].unique()):\n",
    "        print([i])"
   ]
  },
  {
   "cell_type": "code",
   "execution_count": 45,
   "id": "1a83c7a9",
   "metadata": {},
   "outputs": [
    {
     "name": "stdout",
     "output_type": "stream",
     "text": [
      "['5f9c74f7c88c1415cbddb839']\n",
      "['5ff1e1e9b6a9d73a3a9f10f6']\n",
      "['5ff1e1dfcfcf6c399c274ab3']\n",
      "['5f9c74e3f1937815bd2c1d73']\n",
      "['5ff1e196cfcf6c399c274a38']\n",
      "['5ff36d78135e7011bcb86488']\n",
      "['5c3388caea88e15513a95069']\n",
      "['5ff37124135e7011bcb86bc3']\n",
      "['5ff473f3c1e2d0121a9b2707']\n",
      "['5ff4ce68c1e2d0121a9b3022']\n",
      "['5fa5ad376a26f611e71ab5ef']\n",
      "['5ff4ce65c3d63511e2a4853b']\n",
      "['5ff4ce3cc1e2d0121a9b2fba']\n",
      "['5ff5d19b8f142f11dd188696']\n",
      "['5ff73be5eb7c7d31ca8a45a7']\n",
      "['5ff7741e04929111f6e90902']\n",
      "['5ff79459b3348b11c933736d']\n",
      "['5ff75004b3348b11c9336bd6']\n",
      "['5ff73be9eb7c7d31ca8a45bc']\n",
      "['5ff7946004929111f6e90ceb']\n",
      "['5ff726a38f142f11dd1895dc']\n",
      "['5ff8da4e04929111f6e91462']\n",
      "['5ff8da7c04929111f6e914de']\n",
      "['5ff8da65b3348b11c9337b29']\n",
      "['5ff8da62b3348b11c9337b21']\n",
      "['5fa5b0b720dc5111dd86dcc1']\n",
      "['5ff8c88604929111f6e913b7']\n",
      "['5ff873d304929111f6e91096']\n",
      "['5ffc98b604929111f6e923f5']\n",
      "['5ffc9d8cb3348b11c9338927']\n",
      "['5ffc9da0b3348b11c9338951']\n",
      "['5ffc8cc104929111f6e922a3']\n",
      "['5ffcb4b9b3348b11c9338ae7']\n",
      "['5ffca2f3b3348b11c9338a10']\n",
      "['5ffc92a104929111f6e923cb']\n",
      "['5ffcb48d04929111f6e92594']\n",
      "['5ffc9d9d04929111f6e9244f']\n",
      "['5ffc9d9cb3348b11c933893f']\n",
      "['5ffc8cb304929111f6e9229d']\n",
      "['5ffcb4b8b3348b11c9338ae1']\n",
      "['5fff2698b3348b03eb45bb10']\n",
      "['5fff561abd4dff11dda8fa2b']\n",
      "['5fff4c7d61ffa811fdb0856f']\n",
      "['6000b884fb296c121a81ad3b']\n",
      "['6000d4aafb296c121a81b27e']\n",
      "['6000d4b5fb296c121a81b2bd']\n",
      "['5e56d38507a0df22a15dfc85']\n",
      "['6007423b6e6469120a787c2c']\n",
      "['6006f1c5e257127d5d9aedfb']\n",
      "['60088d5cb6310511daa4ee6f']\n",
      "['6008412f6e64697abedcd5d5']\n",
      "['600861d3be5fc9247bab3e0c']\n",
      "['600887a5b6310511daa4e9a7']\n",
      "['60088d58633aab121bb8e424']\n",
      "['60088838633aab121bb8df69']\n",
      "['5cd06f1f2acf0a2667da628b']\n",
      "['60088af5633aab121bb8e31b']\n",
      "['60088aff633aab121bb8e33d']\n",
      "['6009f6927d983a124e9adaad']\n",
      "['6009fd1550b33111943850b1']\n",
      "['6009969150b33111fd61f6d9']\n",
      "['600b349550b3311194385600']\n",
      "['600b2d7a50b33111943855cb']\n",
      "['600afb2a7d983a124e9aded0']\n",
      "['600a1a457d983a124e9adb9b']\n",
      "['600b41d050b3311194385655']\n",
      "['600af8097d983a124e9adeb3']\n",
      "['600b39ce50b331119438562a']\n",
      "['600b00687d983a124e9adef9']\n",
      "['600a1ddf50b33111943851a2']\n",
      "['600ba68e7d983a124e9ae1d3']\n",
      "['600ed95043298911ce45e82c']\n",
      "['600f489d6fd0dc1768a35a88']\n",
      "['600f014d4329897eac238b88']\n",
      "['60118beaa4b74c18d3a8c0f8']\n",
      "['6010bdf673c60b120490404e']\n",
      "['6010be18a4b74c120bd19e43']\n",
      "['5fa8d542b055fd1dfdf09517']\n",
      "['6010be1c73c60b1204904079']\n",
      "['60118c09a4b74c18d3a8c12e']\n",
      "['5fa8d573770b516dda4f4d21']\n",
      "['6012e1e6a4b74c3cbc516088']\n",
      "['600f29a64329897eac239049']\n",
      "['60132b8873c60b3ca7f3bae8']\n",
      "['6014436084231211ce793ced']\n",
      "['60147a84c8b50e11d8453f29']\n",
      "['60145a5467804a1228b20ded']\n",
      "['60145a5167804a1228b20ddd']\n",
      "['6014554a67804a1228b20ca9']\n",
      "['6014558284231211ce796b88']\n",
      "['601441a984231211ce792603']\n",
      "['6014435467804a1228b1dcaf']\n",
      "['601836c2c8b50e11d8454b58']\n",
      "['601830cdc8b50e11d8454a6f']\n",
      "['60182f1dc8b50e11d84548c4']\n",
      "['601890689a1b091205b61c87']\n",
      "['60183c839a1b091205b61aca']\n",
      "['601830ce9a1b091205b618e8']\n",
      "['601836829a1b091205b6194d']\n",
      "['601890b2c8b50e11d8454e82']\n",
      "['60189c92c8b50e11d8454f5d']\n",
      "['5fb1bd519c09d811e5211cef']\n",
      "['60189c90c8b50e11d8454f49']\n",
      "['5fb2da582357ec11d4ecc403']\n",
      "['542ace60e4b0b3d724922499']\n",
      "['601aaebde409201029849b3c']\n",
      "['601c68ce29c30a1227ada468']\n",
      "['601ead00b57b8a12187fce78']\n",
      "['6021768799409b11fcf8987f']\n",
      "['54ca99a9e4b0b11b4f7d6dc5']\n",
      "['602401f1c081001222409ad6']\n",
      "['60245433efa60112282c1859']\n",
      "['6024291f58b989121e6bad5f']\n",
      "['60253861efa6017a44dc6b50']\n",
      "['60253891b54593795bf69242']\n",
      "['60268c7bb545931ac63683af']\n",
      "['60268c78efa6011bb151077d']\n"
     ]
    }
   ],
   "source": [
    "# Similarly, find userId in receipts but not in users\n",
    "\n",
    "for i in receipts_new['userId'].unique():\n",
    "    if i not in list(users_new['id'].unique()):\n",
    "        print([i])"
   ]
  },
  {
   "cell_type": "markdown",
   "id": "7f977cd9",
   "metadata": {},
   "source": [
    "Therefore, I recommend updating these brandcode and userId in brands and users file."
   ]
  },
  {
   "cell_type": "markdown",
   "id": "3a20c0f5",
   "metadata": {},
   "source": [
    "### 3. Missing values within the table"
   ]
  },
  {
   "cell_type": "code",
   "execution_count": 46,
   "id": "082816a7",
   "metadata": {
    "scrolled": true
   },
   "outputs": [
    {
     "data": {
      "text/plain": [
       "id                                       0\n",
       "bonusPointsEarned                     1401\n",
       "bonusPointsEarnedReason               1401\n",
       "createDate                               0\n",
       "dateScanned                              0\n",
       "finishedDate                          1411\n",
       "modifyDate                               0\n",
       "pointsAwardedDate                     1301\n",
       "pointsEarned                          1128\n",
       "purchaseDate                           458\n",
       "purchasedItemCount                     484\n",
       "barcode                               4291\n",
       "description                            821\n",
       "finalPrice                             614\n",
       "itemPrice                              614\n",
       "needsFetchReview                      6568\n",
       "partnerItemId                          440\n",
       "preventTargetGapPoints                7023\n",
       "quantityPurchased                      614\n",
       "userFlaggedBarcode                    7044\n",
       "userFlaggedNewItem                    7058\n",
       "userFlaggedPrice                      7082\n",
       "userFlaggedQuantity                   7082\n",
       "needsFetchReviewReason                7162\n",
       "pointsNotAwardedReason                7041\n",
       "pointsPayerId                         6114\n",
       "rewardsGroup                          5650\n",
       "rewardsProductPartnerId               5112\n",
       "userFlaggedDescription                7176\n",
       "originalMetaBriteBarcode              7310\n",
       "originalMetaBriteDescription          7371\n",
       "brandCode                             4781\n",
       "competitorRewardsGroup                7106\n",
       "discountedItemPrice                   1612\n",
       "originalReceiptItemText               1621\n",
       "itemNumber                            7228\n",
       "originalMetaBriteQuantityPurchased    7366\n",
       "pointsEarned                          6454\n",
       "targetPrice                           7003\n",
       "competitiveProduct                    6736\n",
       "originalFinalPrice                    7372\n",
       "originalMetaBriteItemPrice            7372\n",
       "deleted                               7372\n",
       "priceAfterCoupon                      6425\n",
       "metabriteCampaignId                   6518\n",
       "rewardsReceiptStatus                     0\n",
       "totalSpent                             435\n",
       "userId                                   0\n",
       "dtype: int64"
      ]
     },
     "execution_count": 46,
     "metadata": {},
     "output_type": "execute_result"
    }
   ],
   "source": [
    "receipts_new.isnull().sum()"
   ]
  },
  {
   "cell_type": "markdown",
   "id": "dc041543",
   "metadata": {},
   "source": [
    "We can see that a lot of variables, especially those separated from \"rewardsReceiptItemList\", have many missing values. When answering questions in the second step, we analyzed spent and transactions by brands. However, here we see that brandcode has 4781 missing values, which makes our analysis inaccurate. "
   ]
  },
  {
   "cell_type": "code",
   "execution_count": 47,
   "id": "a8f3f5b8",
   "metadata": {},
   "outputs": [
    {
     "data": {
      "text/plain": [
       "id               0\n",
       "active           0\n",
       "createdDate      0\n",
       "lastLogin       62\n",
       "role             0\n",
       "signUpSource    48\n",
       "state           56\n",
       "dtype: int64"
      ]
     },
     "execution_count": 47,
     "metadata": {},
     "output_type": "execute_result"
    }
   ],
   "source": [
    "users_new.isnull().sum()"
   ]
  },
  {
   "cell_type": "code",
   "execution_count": 48,
   "id": "632c625a",
   "metadata": {},
   "outputs": [
    {
     "data": {
      "text/plain": [
       "id             0\n",
       "barcode        0\n",
       "category     155\n",
       "cpg_ref        0\n",
       "cpg_id         0\n",
       "name           0\n",
       "topBrand     612\n",
       "brandCode    234\n",
       "dtype: int64"
      ]
     },
     "execution_count": 48,
     "metadata": {},
     "output_type": "execute_result"
    }
   ],
   "source": [
    "brands_new.isnull().sum()"
   ]
  },
  {
   "cell_type": "markdown",
   "id": "50619711",
   "metadata": {},
   "source": [
    "Users and Brands table also have some missing values. Brandcode is the variable used to join brands table and receipts table, while we can see it has 234 missing values. And topBrand has 612 missing values. I recommend filling these missing values as much as possible."
   ]
  },
  {
   "cell_type": "markdown",
   "id": "ae92f919",
   "metadata": {},
   "source": [
    "### 4. Data Inaccuracy"
   ]
  },
  {
   "cell_type": "code",
   "execution_count": 49,
   "id": "f92fe096",
   "metadata": {},
   "outputs": [
    {
     "name": "stdout",
     "output_type": "stream",
     "text": [
      "[('5ff1e1d20a7214ada1000561', 2.56), ('5ff726810a720f05230005ea', 2.56), ('5ff874050a7214ada100065d', 2.56), ('5ffc9d9c0a7214adca00004b', 14.0), ('5ffcb4ad0a720f0515000009', 2.56), ('5ffcb4b80a7214ad4e00000d', 12.0), ('6008888f0a720f05fa0000b5', 2.56), ('6011f39c0a720f05350000b4', 2.56), ('60132b740a7214ad50000012', 2.56), ('601455820a720f05f80000fb', 16.0), ('60145a510a7214ad50000086', 15.0), ('60189c900a7214ad28000038', 17.0), ('602558a90a720f05a8000240', 2.56)]\n"
     ]
    }
   ],
   "source": [
    "print(engine.execute('''\n",
    "                        select a.id, round(a.num - b.num2,2)  as diff from (\n",
    "                        SELECT id, sum(finalPrice) as num\n",
    "                        from receipts \n",
    "                        group by id) a\n",
    "                        join (SELECT id, totalSpent as num2\n",
    "                        from receipts) b\n",
    "                        on a.id=b.id\n",
    "                        group by 1\n",
    "                        having diff>0\n",
    "\n",
    "                        ''').fetchall())  "
   ]
  },
  {
   "cell_type": "markdown",
   "id": "16882e55",
   "metadata": {},
   "source": [
    "When answering Q5, \"Which brand has the most spend among users who were created within the past 6 months?\", I used the finalprice column to calculate the total spend for each brandcode, assuming the sum of the finalprice under each receipt equals to the totalprice column in each receipt.\n",
    "\n",
    "However, as we queried the receipt which has difference between the totalprice and the sum of finalprice, we found that the receipts listed above have difference between the two. Therefore I wonder if there is any problem in either the totalprice column or the finalprice column considering the differences are all positive numbers."
   ]
  },
  {
   "cell_type": "markdown",
   "id": "bf7c61f3",
   "metadata": {},
   "source": [
    "## Fourth: Communicate with Stakeholders"
   ]
  },
  {
   "cell_type": "markdown",
   "id": "ff386481",
   "metadata": {},
   "source": [
    "Hello everyone, \n",
    "\n",
    "Hope you are doing well! I have worked on receipts, brands and users json file these days and want to report the issues I found during the analysis.\n",
    "\n",
    "1. Duplicate records. When I briefly browsed the user file, I found a lot of duplicate rows, then I counted the number of duplicate rows and found that there were 283 duplicates out of a total of 495 records. I would like to know why more than half of the records are duplicates, or more specifically, how the user data is recorded and stored.\n",
    "    \n",
    "2. Missing keys and missing values. When I extract data from two files at the same time, I need to connect the two files using a variable that exists in both files, such as brandCode in receipts and brands file. However, I found that some brandCode in the receipt file is not in the brand file. Similarly, some of the userId's are in the receipt file but not in the users file. The brand and user files are supposed to record the complete brand and user information, but due to the data validity, I could not get the complete data, which would lead to inaccurate query results. Besides, all three json files have more or less missing values, which would also lead to inaccurate query results. Therefore, I strongly recommend to update the missing data in these three files.\n",
    "\n",
    "3. Data inaccuracy. When I aggregated the spend for each brand, I used the finalPrice column in the receipt file, but since I wasn't sure if the finalPrice was what the customer really spent, I also added up the finalPrice of all the items under each receipt and compared them to the totalPrice column to see if there were any differences. As a result, I did find a difference between the sum of the finalPrices and the totalPrice for some receipts. So I want to know if the finalPrice is what the customer is really spending, or more directly, how to break down the totalprice to each brand.\n",
    "\n",
    "In addition to the issues raised above, I have questions such as :\n",
    "\n",
    "4. How are these three json files created?\n",
    "\n",
    "5. The rewardsReceiptItemList column in the receipt file has nested jsons. Since this column contains a lot of information, is it possible to create a separate table for it and assign the receipt ID to it, which would make data cleaning and data analysis easier?\n",
    "\n",
    "Could we set up a meeting to discuss these issues in the next couple of weeks? Any suggestions or thoughts are highly appreciated. Let me know your availability. Thanks!\n",
    "\n",
    "Best,\n",
    "Minqi\n",
    "\n"
   ]
  },
  {
   "cell_type": "code",
   "execution_count": null,
   "id": "718cf81b",
   "metadata": {},
   "outputs": [],
   "source": []
  }
 ],
 "metadata": {
  "kernelspec": {
   "display_name": "Python 3 (ipykernel)",
   "language": "python",
   "name": "python3"
  },
  "language_info": {
   "codemirror_mode": {
    "name": "ipython",
    "version": 3
   },
   "file_extension": ".py",
   "mimetype": "text/x-python",
   "name": "python",
   "nbconvert_exporter": "python",
   "pygments_lexer": "ipython3",
   "version": "3.9.7"
  }
 },
 "nbformat": 4,
 "nbformat_minor": 5
}
